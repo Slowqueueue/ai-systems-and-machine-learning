{
 "cells": [
  {
   "cell_type": "markdown",
   "id": "2b594e35",
   "metadata": {
    "id": "2b594e35",
    "tags": []
   },
   "source": [
    "<center>МИНИСТЕРСТВО НАУКИ И ВЫСШЕГО ОБРАЗОВАНИЯ РОССИЙСКОЙ ФЕДЕРАЦИИ </center>\n",
    "<center>ФЕДЕРАЛЬНОЕ ГОСУДАРСТВЕННОЕ БЮДЖЕТНОЕ ОБРАЗОВАТЕЛЬНОЕ УЧРЕЖДЕНИЕ ВЫСШЕГО ОБРАЗОВАНИЯ </center>\n",
    "<center>«НОВОСИБИРСКИЙ ГОСУДАРСТВЕННЫЙ ТЕХНИЧЕСКИЙ УНИВЕРСИТЕТ»</center>\n",
    "<center>Кафедра Вычислительной техники </center>\n",
    "<br>\n",
    "<center> <b> <font size=\"5\">  ОТЧЁТ </font>  </b>  </center>   \n",
    "<center><font size=\"3\">по лабораторной работе №2</font></center>\n",
    "<center><font size=\"3\">по дисциплине: «Системы искусственного интеллекта и машинное обучение» </font></center>\n",
    "<br>"
   ]
  },
  {
   "cell_type": "markdown",
   "id": "e1ea8974-fe55-4203-8125-526d2296ebac",
   "metadata": {
    "id": "2b594e35",
    "tags": []
   },
   "source": [
    "- Выполнил: _ _ _ Москвин Т.А. _ _ _\n",
    "- Вариант 223\n",
    "- Проверил: _ _ _ Осипенко И.В. _ _ _\n",
    "- Новосибирск, 2024"
   ]
  },
  {
   "cell_type": "markdown",
   "id": "2d8d8033",
   "metadata": {
    "id": "2d8d8033"
   },
   "source": [
    "## Цель работы\n",
    "\n",
    "Исследование влияния операции приведения данных к новым шкалам (стандартизации) на обучение моделей МО при решении задачи регрессии, с использованием библиотеки scikit-learn.\n",
    "Знакомство с приемом перекрестной проверки данных (cross-validation)."
   ]
  },
  {
   "cell_type": "markdown",
   "id": "8a0efb41",
   "metadata": {
    "id": "8a0efb41",
    "jp-MarkdownHeadingCollapsed": true
   },
   "source": [
    "## Ход работы\n",
    "Ознакомиться с методическими материалами и примерами выполнения команд.\n",
    "Последовательно выполнить следующие шаги применительно к выборке данных, согласно варианту задания:\n",
    "\n",
    "1. Загрузка данных\n",
    "\n",
    "    1.1. Выполните загрузку файла с подготовленным набором данных (очищенный от пропусков и выбросов для целевой и независимых переменных) в таблицу _df_\n",
    "   \n",
    "    1.2. Объявите список независимых и целевой переменных\n",
    "   \n",
    "    1.3. Оставьте в таблице данных _df_ столбцы, относящиеся только к списку независимых и целевой переменных\n",
    "   \n",
    "\n",
    "\n",
    "2. Выполните процедуры стандартизации каждого признака (столбца) и сохраните их в отдельную таблицу _df_scaled_\n",
    "\n",
    "    2.1. Получите величину среднего значения и среднеквадратического отклонения для целевой переменной\n",
    "   \n",
    "    2.2. Для целевой переменной постройте гистограммы распределения стандартизированых и  исходных значений\n",
    "   \n",
    "  \n",
    "3. Разделите каждую из таблиц _df_ и _df_scaled_ на обучающую и проверочную части:\n",
    "\n",
    "    3.1. Выберите значение для начального состояния генератора случайных чисел (ГСЧ)\n",
    "\n",
    "    3.2. Получите результат разделения таблицы _df_ (НЕ стандартизированная выборка): _x__train_ , _x__test_ , _y__train_ , _y__test_\n",
    "    3.3. Получите результат разделения таблицы _df_scaled_ (Стандартизированная выборка): _xStd__train_ , _xStd__test_ , _yStd__train_ , _yStd__test_\n",
    "   \n",
    "\n",
    "4. Постройте две модели методом SGDRegressor: на НЕ стандартизированных  (m1) и на стандартизированных (m2) данных. Для каждой из моделей m1, m2:\n",
    "\n",
    "    4.1. Получите метрики RMSE, R2\n",
    "   \n",
    "    4.2. Постройте диаграмму рассеяния вычисленных значений от проверочных значений\n",
    "   \n",
    "    4.3. Постройте гистограмму остатков (разностей между вычисленными и проверочными)\n",
    "   \n",
    "\n",
    "\n",
    "5. Вернитесь к части соответствующей пункту 3.1 и измените значение для начального состояния генератора случайных чисел (ГСЧ). Повторите разделение и вычисления соостветсвующие п. 3.2, 4.1 - 4.3 хода работы\n",
    "\n",
    "6. Сравните полученные результаты и сделайте заключение о:\n",
    "\n",
    "    6.1. Влиянии операции стандартизации на точность моделей (изменение R^2 и RMSE у моделей m1 и m2)\n",
    "    \n",
    "    6.2. Влиянии перемешивания при разделении (изменение R^2 и RMSE при различных rand_seed),  \n",
    "   \n",
    "7. Используя модель SGDRegressor и прием кросс-валидации получите на проверочной части (*_test) НЕ стандартизированных и стандартизированных данных следующие оценки точности:\n",
    "\n",
    "    7.1. R2(коэфф. детерминации)\n",
    "   \n",
    "    7.2. RMSE (среднеквадратичное отклонение)\n",
    "\n",
    "\n",
    "|Оценка|на станд.| на НЕ станд.|\n",
    "|-|-|-|\n",
    "|Разделений|k=...|\n",
    "|R2|[r2Std_1, r2Std_2, ...]|[r2_1, r2_2, ...]|\n",
    "|R2 средн| 0.xx|0.xx|\n",
    "|RMSE|[rmseStd_1, rmseStd_2, ...]|[rmse_1, rmse_2, ...]|\n",
    "|RMSE средн|x.xx|x.xx|\n",
    "\n",
    "8. Проведите сравнение полученных значений и сделайте заключение о велечине коридора изменений оценок моделей"
   ]
  },
  {
   "cell_type": "markdown",
   "id": "8dad7f40",
   "metadata": {
    "id": "8dad7f40"
   },
   "source": [
    "## Введение\n",
    "\n",
    "В качестве целевой переменной был взят 'price'. В качестве независимых признаков - 'x', 'cut_Ideal', 'table',  'carat'.\n"
   ]
  },
  {
   "cell_type": "markdown",
   "id": "30d4191f",
   "metadata": {
    "id": "30d4191f"
   },
   "source": [
    "# Подключение библиотек\n",
    "Для начала подключим все нужные библиотеки, проверив версию основных из них."
   ]
  },
  {
   "cell_type": "code",
   "execution_count": 1,
   "id": "d926462a",
   "metadata": {
    "id": "d926462a"
   },
   "outputs": [],
   "source": [
    "# Python 3.8\n",
    "import pandas as pd\n",
    "import numpy  as np\n",
    "\n",
    "from sklearn import linear_model\n",
    "from sklearn import ensemble\n",
    "from sklearn import metrics\n",
    "from sklearn.model_selection import train_test_split, cross_val_score\n",
    "from sklearn.preprocessing import StandardScaler\n",
    "\n",
    "%matplotlib inline\n",
    "from matplotlib import pyplot as plt\n",
    "from matplotlib import cm\n",
    "import seaborn as sns"
   ]
  },
  {
   "cell_type": "code",
   "execution_count": 2,
   "id": "2756eae7",
   "metadata": {
    "colab": {
     "base_uri": "https://localhost:8080/"
    },
    "executionInfo": {
     "elapsed": 5,
     "status": "ok",
     "timestamp": 1636467905333,
     "user": {
      "displayName": "Александр Каманин",
      "photoUrl": "https://lh3.googleusercontent.com/a-/AOh14GgkGTaBzc5npyXmB1kMNElchDZjv535Es-zCi5M7A=s64",
      "userId": "08945778002843785975"
     },
     "user_tz": -420
    },
    "id": "2756eae7",
    "outputId": "0bf95548-598e-4e0c-a502-8e14a89b62d1"
   },
   "outputs": [
    {
     "name": "stdout",
     "output_type": "stream",
     "text": [
      "версия scikit-learn: 1.5.2\n",
      "версия pandas: 2.2.2\n",
      "версия numpy: 1.26.4\n"
     ]
    }
   ],
   "source": [
    "import  sklearn\n",
    "print(\"версия scikit-learn: {}\".format(sklearn.__version__))\n",
    "print(\"версия pandas: {}\".format(pd.__version__))\n",
    "print(\"версия numpy: {}\".format(np.__version__))"
   ]
  },
  {
   "cell_type": "markdown",
   "id": "786a6532",
   "metadata": {
    "id": "786a6532"
   },
   "source": [
    "# Объявление функций\n",
    "\n",
    "Для повышения повторяемости кода и повышения уровня читаемости объявим несколько функций с уже знакомыми операциями"
   ]
  },
  {
   "cell_type": "code",
   "execution_count": 3,
   "id": "e0cce476",
   "metadata": {
    "id": "e0cce476"
   },
   "outputs": [],
   "source": [
    "def PLOT34(y_test, y_pred):\n",
    "    '''\n",
    "    Функция построения графиков\n",
    "    :param y_test: - проверочные значения целевой переменной\n",
    "    :param y_pred: - вычисленные значения целевой переменной\n",
    "    '''\n",
    "    plt.figure(figsize=(12,6))\n",
    "\n",
    "    # == Диаграмма рассеяния вычисленных значений ==\n",
    "    # создать первое полотно 121: 1-строк, 2-столбцов, 1-индекс текущего полотна в сетке\n",
    "    plt.subplot(121)\n",
    "    plt.scatter(y_test, y_pred,  alpha=0.1)\n",
    "    plt.scatter(y_test, y_test,  alpha=0.1)\n",
    "    plt.title('Диаграмма рассеяния вычисленных значений');\n",
    "    plt.xlabel('Проверочное Y')\n",
    "    plt.ylabel('Вычисленное Y')\n",
    "\n",
    "\n",
    "    # == Диаграмма рассеяния ошибок ==\n",
    "    # создать второе полотно 122: 1-строк, 2-столбцов, 2-индекс текущего полотна в сетке\n",
    "    plt.subplot(122)\n",
    "    plt.scatter(y_test, (y_test - y_pred)**2,  alpha=0.1)\n",
    "    plt.title('Диаграмма рассеяния квадрата абсолютной ошибки')\n",
    "    plt.xlabel('Проверочное Y')\n",
    "    plt.ylabel('Квадрат абсолютной ошибки')\n",
    "#--------------------------------------------------------------------------"
   ]
  },
  {
   "cell_type": "code",
   "execution_count": 4,
   "id": "e7bc2e5f",
   "metadata": {
    "id": "e7bc2e5f"
   },
   "outputs": [],
   "source": [
    "def GET_METRICS_SINGLE(y_test, y_pred):\n",
    "    '''\n",
    "    Вычисление и вывод метрик: MAE, RMSE, R2.\n",
    "    На основе сравнения проверочных и вычисленных.\n",
    "    :param y_test: - проверочные значения целевой переменной\n",
    "    :param y_pred: - вычисленные значения целевой переменной\n",
    "    '''\n",
    "    mae  = metrics.mean_absolute_error        (y_test, y_pred)\n",
    "    mse  = metrics.mean_squared_error(y_test, y_pred)\n",
    "    rmse = np.sqrt(mse)\n",
    "    r2   = metrics.r2_score                   (y_test, y_pred)\n",
    "\n",
    "    print (\"MAE : {:>9,.3f} (средняя абсолютная ошибка)\".format              ( mae ))\n",
    "    print (\"MSE : {:>9,.6f} (среднеквадратичная ошибка)\".format( mse ))\n",
    "    print (\"RMSE: {:>9,.6f} (кв. корень из среднеквадратичной ошибки)\".format( rmse ))\n",
    "    print (\"R2  : {:>9,.3f} (коэфф. детерминации)\".format                    ( r2 ))\n",
    "#--------------------------------------------------------------------------"
   ]
  },
  {
   "cell_type": "markdown",
   "id": "04fa3940",
   "metadata": {
    "id": "04fa3940"
   },
   "source": [
    "# Загрузка подготовленных данных"
   ]
  },
  {
   "cell_type": "markdown",
   "id": "ffa6097e",
   "metadata": {
    "id": "ffa6097e"
   },
   "source": [
    "Загружаем обработанные данные из ЛР 1"
   ]
  },
  {
   "cell_type": "code",
   "execution_count": 6,
   "id": "1bf81165",
   "metadata": {
    "colab": {
     "base_uri": "https://localhost:8080/",
     "height": 164
    },
    "executionInfo": {
     "elapsed": 447,
     "status": "ok",
     "timestamp": 1636467905778,
     "user": {
      "displayName": "Александр Каманин",
      "photoUrl": "https://lh3.googleusercontent.com/a-/AOh14GgkGTaBzc5npyXmB1kMNElchDZjv535Es-zCi5M7A=s64",
      "userId": "08945778002843785975"
     },
     "user_tz": -420
    },
    "id": "1bf81165",
    "outputId": "dcaa7bda-72da-4ea3-afcb-f3d6213a1bac",
    "scrolled": true
   },
   "outputs": [
    {
     "name": "stdout",
     "output_type": "stream",
     "text": [
      "Размер таблицы (906, 9)\n"
     ]
    },
    {
     "data": {
      "text/html": [
       "<div>\n",
       "<style scoped>\n",
       "    .dataframe tbody tr th:only-of-type {\n",
       "        vertical-align: middle;\n",
       "    }\n",
       "\n",
       "    .dataframe tbody tr th {\n",
       "        vertical-align: top;\n",
       "    }\n",
       "\n",
       "    .dataframe thead th {\n",
       "        text-align: right;\n",
       "    }\n",
       "</style>\n",
       "<table border=\"1\" class=\"dataframe\">\n",
       "  <thead>\n",
       "    <tr style=\"text-align: right;\">\n",
       "      <th></th>\n",
       "      <th>Cement</th>\n",
       "      <th>Blast_Furnace_Slag</th>\n",
       "      <th>Fly_Ash</th>\n",
       "      <th>Water</th>\n",
       "      <th>Superplasticizer</th>\n",
       "      <th>Coarse_Aggregate</th>\n",
       "      <th>Fine_Aggregate</th>\n",
       "      <th>Age</th>\n",
       "      <th>Concrete_compressive_strength</th>\n",
       "    </tr>\n",
       "  </thead>\n",
       "  <tbody>\n",
       "    <tr>\n",
       "      <th>0</th>\n",
       "      <td>266.0</td>\n",
       "      <td>114.0</td>\n",
       "      <td>0.0</td>\n",
       "      <td>228.0</td>\n",
       "      <td>0.0</td>\n",
       "      <td>932.0</td>\n",
       "      <td>670.0</td>\n",
       "      <td>90.0</td>\n",
       "      <td>47.03</td>\n",
       "    </tr>\n",
       "    <tr>\n",
       "      <th>1</th>\n",
       "      <td>380.0</td>\n",
       "      <td>95.0</td>\n",
       "      <td>0.0</td>\n",
       "      <td>228.0</td>\n",
       "      <td>0.0</td>\n",
       "      <td>932.0</td>\n",
       "      <td>594.0</td>\n",
       "      <td>28.0</td>\n",
       "      <td>36.45</td>\n",
       "    </tr>\n",
       "  </tbody>\n",
       "</table>\n",
       "</div>"
      ],
      "text/plain": [
       "   Cement  Blast_Furnace_Slag  Fly_Ash  Water  Superplasticizer  \\\n",
       "0   266.0               114.0      0.0  228.0               0.0   \n",
       "1   380.0                95.0      0.0  228.0               0.0   \n",
       "\n",
       "   Coarse_Aggregate  Fine_Aggregate   Age  Concrete_compressive_strength  \n",
       "0             932.0           670.0  90.0                          47.03  \n",
       "1             932.0           594.0  28.0                          36.45  "
      ]
     },
     "execution_count": 6,
     "metadata": {},
     "output_type": "execute_result"
    }
   ],
   "source": [
    "df = pd.read_csv('./concrete_nan_PREPARED.csv', # путь к файлу, (используй автодотолнение)\n",
    "                   sep=',', # разделитель данных в файле\n",
    "                   header=0, # номер строки с заголовками, нумерация с нуля\n",
    "                   # header='None', # если заголовки отсутствуют\n",
    "                  )\n",
    "print(\"Размер таблицы\", df.shape)\n",
    "df[:2]"
   ]
  },
  {
   "cell_type": "markdown",
   "id": "92c068fb",
   "metadata": {
    "id": "92c068fb"
   },
   "source": [
    "Запишем независимые признаки в features, а целевую переменную в target"
   ]
  },
  {
   "cell_type": "code",
   "execution_count": 7,
   "id": "3d6d7854-457e-489d-af7b-b5a12840cefd",
   "metadata": {
    "id": "5c77ff67"
   },
   "outputs": [
    {
     "name": "stdout",
     "output_type": "stream",
     "text": [
      "<class 'pandas.core.frame.DataFrame'>\n",
      "RangeIndex: 906 entries, 0 to 905\n",
      "Data columns (total 9 columns):\n",
      " #   Column                         Non-Null Count  Dtype  \n",
      "---  ------                         --------------  -----  \n",
      " 0   Cement                         906 non-null    float64\n",
      " 1   Blast_Furnace_Slag             906 non-null    float64\n",
      " 2   Fly_Ash                        906 non-null    float64\n",
      " 3   Water                          906 non-null    float64\n",
      " 4   Superplasticizer               906 non-null    float64\n",
      " 5   Coarse_Aggregate               906 non-null    float64\n",
      " 6   Fine_Aggregate                 906 non-null    float64\n",
      " 7   Age                            906 non-null    float64\n",
      " 8   Concrete_compressive_strength  906 non-null    float64\n",
      "dtypes: float64(9)\n",
      "memory usage: 63.8 KB\n"
     ]
    }
   ],
   "source": [
    "features = ['Cement', 'Water', 'Superplasticizer',  'Age', ]\n",
    "target   = ['Concrete_compressive_strength']\n",
    "df.info()"
   ]
  },
  {
   "cell_type": "markdown",
   "id": "9ae17952-b086-483f-a1f0-5ed5fa269e63",
   "metadata": {},
   "source": [
    "Для выполнения следующих шагов разделим исходую таблицу на две отдельных\n",
    "  - dfX содержащую только объясняющие признаки\n",
    "  - dfY содержащую только целевой объясняемый признак"
   ]
  },
  {
   "cell_type": "code",
   "execution_count": 8,
   "id": "39c30381-fd1c-4080-baaf-da6c9d3e542c",
   "metadata": {},
   "outputs": [
    {
     "name": "stdout",
     "output_type": "stream",
     "text": [
      "Размер таблицы (906, 4)\n"
     ]
    },
    {
     "data": {
      "text/html": [
       "<div>\n",
       "<style scoped>\n",
       "    .dataframe tbody tr th:only-of-type {\n",
       "        vertical-align: middle;\n",
       "    }\n",
       "\n",
       "    .dataframe tbody tr th {\n",
       "        vertical-align: top;\n",
       "    }\n",
       "\n",
       "    .dataframe thead th {\n",
       "        text-align: right;\n",
       "    }\n",
       "</style>\n",
       "<table border=\"1\" class=\"dataframe\">\n",
       "  <thead>\n",
       "    <tr style=\"text-align: right;\">\n",
       "      <th></th>\n",
       "      <th>Cement</th>\n",
       "      <th>Water</th>\n",
       "      <th>Superplasticizer</th>\n",
       "      <th>Age</th>\n",
       "    </tr>\n",
       "  </thead>\n",
       "  <tbody>\n",
       "    <tr>\n",
       "      <th>0</th>\n",
       "      <td>266.0</td>\n",
       "      <td>228.0</td>\n",
       "      <td>0.0</td>\n",
       "      <td>90.0</td>\n",
       "    </tr>\n",
       "    <tr>\n",
       "      <th>1</th>\n",
       "      <td>380.0</td>\n",
       "      <td>228.0</td>\n",
       "      <td>0.0</td>\n",
       "      <td>28.0</td>\n",
       "    </tr>\n",
       "  </tbody>\n",
       "</table>\n",
       "</div>"
      ],
      "text/plain": [
       "   Cement  Water  Superplasticizer   Age\n",
       "0   266.0  228.0               0.0  90.0\n",
       "1   380.0  228.0               0.0  28.0"
      ]
     },
     "execution_count": 8,
     "metadata": {},
     "output_type": "execute_result"
    }
   ],
   "source": [
    "dfX = df[features]\n",
    "print(\"Размер таблицы\", dfX.shape)\n",
    "dfX[:2]"
   ]
  },
  {
   "cell_type": "code",
   "execution_count": 9,
   "id": "2cbb2990-40c0-4e96-a87b-1683ab0a6aac",
   "metadata": {},
   "outputs": [
    {
     "name": "stdout",
     "output_type": "stream",
     "text": [
      "Размер таблицы (906, 1)\n"
     ]
    },
    {
     "data": {
      "text/html": [
       "<div>\n",
       "<style scoped>\n",
       "    .dataframe tbody tr th:only-of-type {\n",
       "        vertical-align: middle;\n",
       "    }\n",
       "\n",
       "    .dataframe tbody tr th {\n",
       "        vertical-align: top;\n",
       "    }\n",
       "\n",
       "    .dataframe thead th {\n",
       "        text-align: right;\n",
       "    }\n",
       "</style>\n",
       "<table border=\"1\" class=\"dataframe\">\n",
       "  <thead>\n",
       "    <tr style=\"text-align: right;\">\n",
       "      <th></th>\n",
       "      <th>Concrete_compressive_strength</th>\n",
       "    </tr>\n",
       "  </thead>\n",
       "  <tbody>\n",
       "    <tr>\n",
       "      <th>0</th>\n",
       "      <td>47.03</td>\n",
       "    </tr>\n",
       "    <tr>\n",
       "      <th>1</th>\n",
       "      <td>36.45</td>\n",
       "    </tr>\n",
       "  </tbody>\n",
       "</table>\n",
       "</div>"
      ],
      "text/plain": [
       "   Concrete_compressive_strength\n",
       "0                          47.03\n",
       "1                          36.45"
      ]
     },
     "execution_count": 9,
     "metadata": {},
     "output_type": "execute_result"
    }
   ],
   "source": [
    "dfY = df[target]\n",
    "print(\"Размер таблицы\", dfY.shape)\n",
    "dfY[:2]"
   ]
  },
  {
   "cell_type": "markdown",
   "id": "8ba3b542",
   "metadata": {
    "id": "8ba3b542"
   },
   "source": [
    "# Приведение к новой шкале значений"
   ]
  },
  {
   "cell_type": "markdown",
   "id": "f563be24",
   "metadata": {
    "id": "f563be24"
   },
   "source": [
    "Важнейшими числовыми характеристиками случайной величины являются:\n",
    "\n",
    "- Математическое ожидание, имеющее смысл среднего значения  (mean)  $ {\\\\mu} $ (мю) - центр распределения случайной величины\n",
    "      .mean()\n",
    "      \n",
    "- Среднеквадратическое отклонение (Standard_deviation) $ {\\\\sigma} $ (сигма) - показатель рассеивания относительно её мат. ожидания.\n",
    "      .std()\n",
    "      \n",
    "- Дисперсия (Variance) $ {\\\\var = sigma^2} $ (сигма в квадрате) - мера разброса относительно её мат. ожидания.\n",
    "      .var  =  .std()**2\n"
   ]
  },
  {
   "cell_type": "markdown",
   "id": "1dfe2644",
   "metadata": {
    "id": "1dfe2644"
   },
   "source": [
    "Некоторые методы машинного обучения \n",
    "сильно чувствительны к шкалированию данных. \n",
    "\n",
    "При подготовки данных чаще всего выполняются процедуры: \n",
    "\n",
    "- либо __нормализации__  -  приведения значений к диапазону от 0.0 до 1.0 Пример:\n",
    "      \n",
    "      |--------------|+++++++++|----|\n",
    "      |--------------|++++++++++++++|\n",
    "      0             1900     1970  2000\n",
    "      \n",
    "      Обрабатываемое: 1970\n",
    "      Макс. значение: 1900\n",
    "      Мин. значение:  2000\n",
    "      \n",
    "      Процедура нормализации:\n",
    "      x_norm = ( x - X.min() ) / ( X.max() -  X.min() )\n",
    "      x_norm = ( 1970 - 1900 ) / (2000 - 1900)\n",
    "      x_norm = 70 / 100\n",
    "      x_norm = 0.70\n",
    "      \n",
    "      Восстановление:\n",
    "      x = ( x_norm * ( X.max() -  X.min() ) +  X.min()\n",
    "      x = ( 0.70 * (2000 - 1900) + 1900\n",
    "      x = ( 0.70 * 100) + 1900\n",
    "      x = 70 + 1900\n",
    "      x = 1970\n",
    "\n"
   ]
  },
  {
   "cell_type": "markdown",
   "id": "d28d6815",
   "metadata": {
    "id": "d28d6815"
   },
   "source": [
    "- либо __стандартизации__ - предобработки данных, после которой каждый признак имеет среднее (mean) = 0 и дисперсию (variance) = 1. Стандартизовать - вычесть среднее и поделить на стандартное отклонение. Критично для линейных моделей.\n",
    "      X_stantartised = (X - X.mean()) / X.std()\n",
    "\n",
    "![std.png](data:image/png;base64,iVBORw0KGgoAAAANSUhEUgAAAgAAAADICAMAAACpgqk4AAAAAXNSR0IArs4c6QAAAARnQU1BAACxjwv8YQUAAAMAUExURQEBAQgGBQYJBgsIBwgHCA4NDRINDBQRDhgSDg8PEBEPEgITFhYTExsWExsYFR0bGyEbFiIdGi8oHyYhHCojHSUiIislIi8oIy0sLDgvKDMrJTIvLTYwLDw0LDYzMjo1ND45NT86OEA3MEM6M0g9NUM9O0o/PEZBPUtBPQxrbkdDQUpFQ01JR01LSVFHQVdMRFpMRFNOTVhNSFVRT1tTS0lQUVlXWFVTUVhTUV5bV1VfXl5bWWNQQmNXTWxdT2FaVmldU2JcWnJfUW1hVmVgXWliXnppWHNjVHJlW3xrXGdiYmtmZWxqZ21qaXRqY3JubHRxb3lybndycHt1coFvXod4Y5J9a4F6dIJ9eoWBf5qKdKmVfSaJijSJiB2rqwuqsAK3twS2vQq2vQW5vQu5vRe6thS2vhO6vhu7viKxtyO9vlaKjSvAvwS2wQu2wgW4wQy5wRO2wxi3wxO6why8wx29ySO9wyu+xCW9yCu/yjK/xSXAxCvBxCfByCzByjTCxTrDxTTDyTvEykPFxkrGxkzJx0LGykrHzEbJy0zJzFTHzVPKzFvMzU7H0U/J0VXK0VvN0V/Q0mLNzmjPzWbRz2zTzmPO0mvP02TQ0mzR1G7T2XTT1XzU1XTU2XvW2nzY2IeDgoqFhI2Jho+NipGJh5KNipSQjZmRjZaTkZqWk5yZlp6cmquZi6Gcl6GdnKShn6ihnKelo6impK+rp66sqrCrp7KuqrWxrrmzr7Sysrm2tLu4tr27usG+u8TBvoLW1onW14LZ1ova14PX2YzX2oTY2oza25Tc3Zve3qLe3rXQ0J3g3qDh35Xd4Jre4aLf4Z3g4aTi4qzj5LPl5bnn5rbo57ro57Xn6b3n6bbo6bzp6cbFxMrGw8zJxs7LytHNy9PRztbT0tnW1NvZ19zb2uHe3ePh3sPr6szt7dHv78/w79Tw78/v8NLv8NXx8dzz8ubk4+jn5uro5+vq6fDu7en3+OT19en39uz49+f3+O34+PX19Pj39/n49/T7+v///5R0meoAAAAJcEhZcwAADsMAAA7DAcdvqGQAABbkSURBVHhe7Z0JfBNXesBtfJBNwcAmEBKuZHNRIGmIUyDddrO0ybZpliVXW9Lt4dFMkesyGoGEzNomtsypmGJDSMAYzLW522y5QsqVNCxy0sQE24GAAwm3HQ6LBCM7sjWzT9Jgj+453nsjmPfnF/mNg7Al/ed73/vmvTdpAsHQEAEMDhHA4BABDA4RwOAQAQwOEcDgEAEMDhHA4BABDA4RwOAQAQwOEcDgEAEMDhHA4BABUoevtu0VWxghAqQMXePSJolNjBABUoZuIoCxIRHA4HQ9SAQwNCQCGJzusUQAQ0MigMEhEcDgkAhgcEgEMDgkAhgcEgEMDokABodEAINDIoDBIRHA4HT96R/9mdjECBEgVeA/+Zd//Xe3VzzCBhEgRfAsYGiKZee4efEbmCACpAZN5SaKzaMo1lTRKn4LD0SAlKDOxrLg82cpKi+voEX8JhaIAKlAvZm1la/5pz/+58YD8xmq4Ij4bRwQAVKAOjNX1OjreiBtAsgF64ABGGMAEUB/PrexVSD7734gbWLg8GOGcuAzgAigO01muuoH8LXrWiEIJARlgW9ggQigN15nniv4cfeWgutsXDWu0SARQGc6F1P554MtybUAt9W6VmyiplcA/+vPfCc2Cfh4mZ3VFGr1dAGA/2NsR8UmYnoFuDLy5mNik4CNRsbaKDalAvgW08WhuIAaiQDDsr4SmwRceBi2WmyGCSB4iqglWNIAIoCe+BbkuXo+5jABhCaGqhObSJEK8CMiAGaqWbNHbEYKILhNDhxXBYgAOvKlmWoQm4AIAXwLqCKf2EYI6QL044cydoGkn48QQGh7kXWLTYQQAfSjLq9cWvCLFEBoss5BPxKQCDCSCICVVrv52ggwSJQAvIteinwkEBYBSB0AI50VvSPAIFECCK0FDPKRAEkC9aKeK+sdAQSIFkD4vcke/nfgQwTQCW+RVTICCBBDAH4RtURsokIiwHCSA+CDrzYtjujfYwgAOgEa8dQAEgH04Wi+PTLDjyWAsIYquyo20UAE0IVOJ1UjNnuIKYBvDuJiABFAF+q48qglIDEFEJq44jaxiQSpACQHwMVVJxNWAggSW4BAHoiyGBAmAKkDYCI6AwTEFkBonWVFmQeSCKADLbaCS2JTQhwBhA/Y3kvG8JEKkE0EwAJfxdaKTSnxBPAWmD4VmwiQCECuBWDiY8YRK6+LJ4DQOLMQ3aJh0gVgxzeD+kBshhEtgD/0hV/EfhRqIYAIgJ06riBmgT9CgK7jU6eJzSZzCbJLAkQA3PhK6Njnc4QA/iuTgyvFALyL3i82oSMVAGshiG9x19bua8C+I4buuOnFsWd6RXUBG3LFhvCFuRBVCNBJAP5QhTmPZVnL3Go8099TBl8JJy4EiSRagGsRQOArKFQhQB8BPJVmls1n7C/ONXH2fRimPqYOdVyMGlCQBAIIzciyAD0E4A/O5Qpc9a3/8f8d3oZVdm4h3k1RdIUv5r4Qm5EkEoCvoBFdE5IIgGs+QEeV2b7OA06Ds+2Bw5ZyrqQRZbU7pfiEXRjvtSYSQDhkLUGTLuGPAN5FnCOsF+xcZ7XWGsQAfj4bJwNIIgBfgeiysFQALBHg4kKuMrI7+2yuZbUxDGhgyuO+0GgBekYBgC8saMqBuAVomk4tuZb0bTkjNoTzpcYwwFdkib4MfI2EESAwEEASAjB3AU2Mbc21T9r/WO/PayujjWDAEWp6p9iMJlqAB8RGkMNMYYfYhAleARot1t6J7v5HJT/PU2paqbMB3W9vFovvqPDNo+MHgEgBruydPG7nZfEAwLtMKEIAVgGaLDZJChQmADDAskpfA7rG5Ix7X2yj4VNTWYKXGBUBIjhqcSAIATgFaJxpk54A0i4A4CmjwlfKYMb/ZnZOvwHTroiHCOgoTZABJBeAf4lDUA6UCIC6DuB5MezzF4Q958RGCI++eUD71PS0tPQ7790hHsOnnopbAwiQTADhCDMb/kAAXwTwLmL3ic04tJWZouZK46N9QlqA9Jwp4V5CwzsjYQBILgDvijmTSBvYBPC6LMuTFf3bnAzaSfCJuDI2PT0joEDmqG1IksEDdMIAkFwAocVqjzGXUBtSAVB2AR2VlsrIz/+YJMcNcb7Yrt91gbfTs7LTgQQZWf1eQLBhnrfEdlhsxgYIMHjjhvXrN4K3Zdf69es3HBeEU+Dr+j3gw3kdHP+Or2VfEv8yNHDlAPutlZG7n/ofj/55n5rmojVg29QpT0156pe/nBJk6tPPPjtt2gvrN2zc9PqbY9LSs3IGDRqU0zfjof86DjsI8NX0arEZByDA0E0bAaAL2hX4egwIEPgKhibfvwm+vuv3OqAvFcQUAT6zLYrKX7p/GmMdwoeIKp4iZx++7bZbB/Xv3zcrA5zs4HQPPAT7/rR08KdPVgZ4HDz6Z3//5JZu8SmQaLHZL4jNOAABpKW/mOynKiDnyRIBEM4KbsyfHb0Hvv+nMX4eX8ug3Cb31MMPPfQnD/35X/7iyeeff/7JJ//mr37+F49NGjuyL5AgE/zX50dZQIB+WWmZ2aOeOSs+Bwp8FZVs89fkOQDoR+wmyDcTwBIBPMX2iLXwASLqACJ8pWUdOgOOj77nnnvuHnH7bT++9ZaB/W/Kzs7OAASCQHpOViAKhGJBWmZan75jT4pPgkGjLeZUcClyBBDclBNuNQhHBOiMPZvB/0bMdxgMBZBNgu76h9Gj77vvvrtHjBjxkwAjRgwfPmz40CH9wceemZaWPRCkAAMHDszpd3Pg6LHd0LqBDqc16fhGlgD8Yg7uu4MjAtTQLymZ9dU6N2rpPCTazx47dmzv3q+mPXjviDtuHZRzU1ag4w+c/sEzP/uvf/3rf/y7X/zsofuGD+kHvtd38v+IT9SM27Qw6VsgSwDhMAN3tbBUAER1gMb8xcryujqmFMkEuK7/3vj042MefuSRu2+//Y47hgQ6gf7ZwaG/SEZmBhgIZoKzP2hE9oO/ek98qkZai3u2hI6PPAGEBRzUPBC9AC35tjgju/YusRFJjbUGSRrgP7ZjE0gAhtzSPzsrIxv8Se+Tnp4zZNioO+8aBj71PoMzM7Nv7j/othF3jR59750/Gf3gtO/FZ2qDX87K2P5fpgCtsxmYSwUlAqCpA/ALrZ+LzQj8v4r38zqdDJJZ0F273+0HzvMsMNgTSQcKZPTLGdA/I9QL9Bsy5JYBOTf1zc7IzMy6/7j4PK002xxJhoABZAogfEAVQxwpI48ANdTLYisS/+S4P+/8HFRpwO/GjXsAMH58bu6k3NyJuUNuAWlf//79+oIIkJbTLxMMCPoEVUgb8EK8AKWUjkJqndhMhFwBOh3JLqooAbUAR2yl8YYtMesAIh9zievmKvGf+nrvnj17du/aufN/Adu2bfs5GBTe8eNbB94UEEAkkBdmDtspPkc7NVSZnFNWrgDCUaupWWxqRyoAgi7AVxY/++kOmxASDr/M9HuxCZM9d44aNXLkSPAAvtx51/1jxowFASF34iMTJ+WODCoAPnwQBAZM2Qvr9AcdwExG1u1fZAsgLKfLoRUDEOcANVz8vU79z3wttmLwLZLLQv6u9uAfQPAB0O0P/AFcmZCWlpkzeOjQO4ZP2gvxSkBHCStv0rt8AbyFeTEXmKsBbQQ4bIs/Cxq84si3uf3y9+3ngqtFBOEzGSNnuGwQe4GM8VCvBVZzRfIGtfIFEBrN5kNiUysSAeBXAj2O6RfFZnL8Oze+PWnouFzx3edftUJMdeSwux8I/ukZd+2COiusxWr6UmwmQYEA/DJ6IaSRAMoIwC/nEtY/wyPA5glnhcsPHOsZeV9w2GJcQEDIqWGj7ho5+AW4kwI7i6m1MtNZBQIInpLYu4woB2UEWEPPSxjFN3wjNgJ8d+8e8Lj56dBRgGa7E9Wi+JicmzDoie1n4CV/QdbSstf0KRFAcJvMMgNLEhBGgOb8/G/FZkzCRwF7B58Cj8dzej8AvpZbhKQgGI/vNov5BzyaLfJGAAEUCeBbYoLTCUgFgFsHaCuWLAKJRXgdYOuA0+DxVLpkRqZvHpKlEBjxvkjJL2orEkDwFMkpLycHmQC+VewrYjMO4QKcHHoCPB4fJs0LWh3xysjXB3wtq2AthzIBwEggYpa9OiQCwK0DrGHKk/Tg/iekU8LaJ74NHrdc2xgrRLOZkVFET1ncjEVByU6hAPzLtBnC7CBUEaB5tjPpZevTYV3uiQnHhMu/jeiF19AL46+mTHWarbSSdQ4KBRA6XByEUgkiAVqKld/2sv3r9nORpSF+CbsCayIIkbYyTnpbwKQoFUBonc5qX0gjFQBeF/DtHFjTuviXmANi8zqDd7HKTgLFAggNtvAbz6kBSQ7AV8laxrg5MPBLhvffGLz1IFi4GZuya3bKBRCqqOla1wmgiAD8am6+jNgXc11ANM22GDdXSH3qrJzC+KxCgI6FbKnGNEAiALRK4GpTxB3xYhN7Wng0jabfYK0IQuGSg1a6vkGFAMIFM61xhiCCCFBDlcmat+rPfeax3Nzxj4LE/41JubkTTgjCbvB10ruCcGZybm7ub0GQmDo+d+Lu5QysKx/Y8JRTpZFL4ZKhRgChwZqnLRGEHwHcTGnCCnAP/glvv7d969YdIPP/evv27e9dEYRz74EGyAza39+6dXugg9i1devWc/xyWuG8Yr3xLqQKFHfOqgQQ6jhtiSD0CNDiYOTmPjvlLsT3LWcWXE8G8KtZc9ztAOOiTgB+scUu+3JDDKQCwKgDXJxjrYM/cO+soqMXl6Yu7lkmFfPa1QkQiDYODbNDIAvQWmhBMZdP6FjCua4bA+rMphUqcnOVAggeJ6W86taDRAAIdYDWuZaP5Ku/R8H626uV3PXSC9Qz1DI19Wu1AgiN09mozRdkAzUCtBQqWdARa4OI+HgrLUtVv0qcHLRSM1RdwVItgPDJTG6Z2jsMwxSg8TdWJfOUumXWAUR+qKT/E8E+ebBpnJmnfAAQRL0AQr2Ne1XlRTOpANq6AP5Dk7IFXQoFADGAc6W8AZ4ZrF1ldVaDAIIbxAB1JUF4OcAHFuuHilJfpQIIV5ew81O8F/A42fzEW0HFR4sAgttmelXV6AtWBODXMHMVXrbzv650Cw5fJbsY6uJ42HjK8pJsBZYATQLwbtALqDFAIoCWSiC/1lKCYCVPJHwlPV15hQUbnnLarH7VniYBAneUYJerMABOBOhYbSmSV//VCF/FmlP26rCnnFV4BTgMbQIIHa9a2CrlBkCJAJeKqVIVI58ramZhN5it9ao6O+RcLKdsWibpaRRA4KsZdonitwZGBGh2MFF3gZGBf4qqn9dkN81PxcHAATM7S0tRXrMAAl/PUZVKq2VSAVTWAWoY6z4152T4/QLk01xmmZd6c4XrGSo/3g3h5KFZAPBLWFmHwkGoZgE6q2lG3eWfRPsDJKSjirYjvKO+GkASnmfX0P8HgCAAf4BhZyszQCKAqjpAayFXqlJ8tREADAdr8s01qXRlwFvDUMUq6z89QBAAxAATa1e0aFBbBODrHZZatfO1/M8l2CAiMXyTg0uhikDbQtZSqblXgiKA8LGZmr1fQVFQkwAXl5ksbvUpebuGjThbqxgHgokHqmgqo+hV2vNSOAIInxTT9DL5v41UAIVdAP9lMVuqW1mm4xXbzLWp0A3w9YzFslL7Eh1YAght8yjOJbs/Up8DXFplM6/WNF03aosYRfBfFnHlTboHAdD907OhxCJYAgjeCjAikXs7ZrURwPdZMevUWJML2yBCBd5VNsal84zxNidtKlRd/g8DmgACX2embKvkXTeTCKCkEti2hLat1Pjeqx4G9sAfKmSL9cwEftg/h6KXQeqI4AkgCI3lFC2ve1YVAToPOiitpz8MAUAmUG21VGgcf6unrZyl7Bqy4HBgCiB4XFYqv15GZqIiAvCN5bStWnvoVV8HkNJcSFvW6JIMgjEwZVE5+ycWUAUAv52NolzJN9xVHgEuVHL0Ahg7+aq8FhCJb7/D5PgI/0SRlgoTZYIw+usBrgBgdFrKUeaDyeKTVAA5dQDPSivnbIAT9S5D2pOptYKmCtx4N5Lo+IChKPtRmPkHbAHASNlK5xUlGQ4oE8CzYjrFHID5quHQ4uJohxvCWFwmIPrn5cEo/kiBLoAgfFHKUtT8hL21RICkdYALK82s9RWdx11xOLLUStn3Y7pM3Owy0fSiI5BPBAQCCL5XrCxrXZmgai47AvCtK8y0OdE/pRT/G3I2iJAL3+xiOMc+9Okg31JhYdnZ+6HHQRQCgLPWRVHszOq4VypkCuD9vNzKzYr/z6hB7v4AcuGPVjCcvboZbQ/V4jJTXH4tgitRaAQQ+INlQIFZ7jinhlSAuF3AxeoChis/APlFwxkGSuFbXrKyZtchZD2B7/BSkPsxC5DMf0UkQKBs42Qpxr4i5sbdyXMA76fL7JR9UQP0dxW+AAEF3CWceUbNYRRhwFtXCMbW9IImNNkmMgEE4YeDTo7Ks69qjP7Nk0QAb8OKOZyppLoVwRvqfwK+AABvQ4WZsi2ta4P7K/ta1s2lqTyrC9n1J4QCgHcFKEDnWZ2feyN+fYkAkZVA3tuwqoSm7AsbEFVZjiO4SXsAvnl5kY2zL3J/AStq8R53qTlwDi36EtXHj1gAEAUOlNEUZXLMawhzIE4E4H0tB5YV06x9Xt15fMNraPC+Q1VzTKz1xbWNVzX/+p2H610FFBhNFdVeQvfxIxdAEDoaVuVTIIWZserg+Z4XEiMC8FdbDlY5bay1YLH7AspXjBTe+3mt00abXnSubbjEq38Z3n1OM/j0KfvSRsRVBuQCgDel1e0EQwKamtWzg0lUBDi0v9xpZWlbyerGyO4CNu/L3SNILZ0t+6tm2yjOXqZ+5koNx4J/YBGGUwGDAABfw6sOkMo6rwVGqQCBOoCvmDWZi6vrLqKvqCheHawKT8u6KofdofqS8flCm8sNOaGMDR4BAFdb3R/2zOTuFeD7UCGotcbdhqfX705w40i4dHg16OzF8ukDusZgEiCMyAiAEdiVwOsdbBEgDGkEyHzrmwAngo/o2TvqTbGFAXX3AuvC9V4E2Ds0bZTYxMGJk8E5uZIIMDR013xcYP1hac+Kr1IZO/D+kni5ORiApRFA/B83JFPFV6mMbeKzcYHVt5uDd8fvFcC/e8uWLdvAfzck6magX94qPh0D294ZnDZMbGNhW/Aenb0C4OcMpClhNwh6J4HYQXQx6Lqle5zRBCDDwDCMFwGwFYKuDwwXAboflXXPIMPQZTQBhA2Bm8USrtFttC5A6Na0PPyGw3gRgBCG8SKAtg0ibjgMFwE0bBJ1Q2K4CECGgeEYLwIQAcIwXATonkwEkGK8CPAUEUCKf1La42ITIzoKQEYBEXRd1uEN0VMAQgqgmwBdwUUBqFcGEJKhmwBvBSZpnRobOiAAuo6/vyM4SQcrugnw2t+Ch2MjQwcE8Pk/d7L75FPYJ0npJsCmoACjQgcEQdg2BTxsmBY6wAcRIEXomrAFPO4ZiXsgQARIEc6ODFwZOZkJc+MsOegnwE/BAxGgh9PDAgKcSd8bOsSGfgIMPiEIOwZ3iYeG58zQwNKFs+l7QofY0E2A1wbc/9bOb0ZNOy0eG53TQQHOpOMuj+smwDu7vj7eJZw5RkJAiLMjAyu1TmSdDR1iQzcB3sId61KcrnGbwOOue0NH+NCvC3hNbBBCbB4PHja9EzrAh34CPC02CCG6N7wvnH5Ow5301KGbAMc3ig2CiP/Ud2fxXw/WTQCBTAZICfQTgJASEAEMDhHA4BABDA4RwOAQAQwOEcDgEAEMDhHA4BABDA4RwOAQAQwOEcDQCMIfAOLaNKqFzxqyAAAAAElFTkSuQmCC)\n",
    "<p style=\"text-align: right;\"> Рис. 1. Вид гистограмм до и после стандартизации </p>\n",
    "\n",
    "\"Одно из наиболее важных допущений при работе с линейными моделями, параметры которых оцениваются методом наименьших квадратов, состоит в том, что остатки модели независимы (т.е. не коррелируют) и имеют нормальное распределение со средним значением 0 и некоторым фиксированным стандартным отклонением\""
   ]
  },
  {
   "cell_type": "code",
   "execution_count": 10,
   "id": "cb0efab0",
   "metadata": {
    "colab": {
     "base_uri": "https://localhost:8080/",
     "height": 370
    },
    "executionInfo": {
     "elapsed": 711,
     "status": "ok",
     "timestamp": 1636467906481,
     "user": {
      "displayName": "Александр Каманин",
      "photoUrl": "https://lh3.googleusercontent.com/a-/AOh14GgkGTaBzc5npyXmB1kMNElchDZjv535Es-zCi5M7A=s64",
      "userId": "08945778002843785975"
     },
     "user_tz": -420
    },
    "id": "cb0efab0",
    "outputId": "484fee05-d873-4083-a5c9-ba8ba1bb6532"
   },
   "outputs": [
    {
     "name": "stdout",
     "output_type": "stream",
     "text": [
      "Среднекв. откл. (Stand._dev.) 22.698774746668597\n",
      "Дисперсия (Variance)  515.234375\n",
      "Среднее (Mean) 1948.125\n"
     ]
    },
    {
     "data": {
      "image/png": "[encoded data removed]",
      "text/plain": [
       "<Figure size 1000x500 with 2 Axes>"
      ]
     },
     "metadata": {},
     "output_type": "display_data"
    }
   ],
   "source": [
    "# Пример операции стандартизации\n",
    "df_ex1 = pd.DataFrame(\n",
    "  np.array([1900,1920,1920,1940,1940,1940,1950,1950,1950,1950,1950,1950,1970,1970,1970,2000 # последовательность\n",
    "  ]),\n",
    "  columns=[\"Year\"]\n",
    ")\n",
    "\n",
    "print (\"Среднекв. откл. (Stand._dev.)\", df_ex1.std(ddof=0).iloc[0])\n",
    "print (\"Дисперсия (Variance) \", df_ex1.var(ddof=0).iloc[0])\n",
    "print (\"Среднее (Mean)\", df_ex1.mean().iloc[0])\n",
    "\n",
    "# X_stantartised = (X - X.mean()) / X.std()\n",
    "df_Std = (df_ex1 - df_ex1.mean())/df_ex1.std(ddof=0)\n",
    "\n",
    "plt.figure(figsize=(10,5))\n",
    "plt.subplot(121)\n",
    "plt.hist(df_ex1[\"Year\"])\n",
    "plt.subplot(122)\n",
    "plt.hist(df_Std[\"Year\"]);"
   ]
  },
  {
   "cell_type": "markdown",
   "id": "6519e5b7",
   "metadata": {
    "id": "6519e5b7"
   },
   "source": [
    "## Стандартизация. Способ #1"
   ]
  },
  {
   "cell_type": "markdown",
   "id": "4ec96928",
   "metadata": {
    "id": "4ec96928"
   },
   "source": [
    "Благодаря наличию функций вычисления статистических характеристик в библиотеке pandas, стандартизацию можно выполнить прямым вычислением."
   ]
  },
  {
   "cell_type": "code",
   "execution_count": 11,
   "id": "5ef56425",
   "metadata": {
    "colab": {
     "base_uri": "https://localhost:8080/",
     "height": 110
    },
    "executionInfo": {
     "elapsed": 25,
     "status": "ok",
     "timestamp": 1636467906481,
     "user": {
      "displayName": "Александр Каманин",
      "photoUrl": "https://lh3.googleusercontent.com/a-/AOh14GgkGTaBzc5npyXmB1kMNElchDZjv535Es-zCi5M7A=s64",
      "userId": "08945778002843785975"
     },
     "user_tz": -420
    },
    "id": "5ef56425",
    "outputId": "9450107e-445d-4f28-eac3-5cf8fa057279",
    "scrolled": true
   },
   "outputs": [
    {
     "data": {
      "text/html": [
       "<div>\n",
       "<style scoped>\n",
       "    .dataframe tbody tr th:only-of-type {\n",
       "        vertical-align: middle;\n",
       "    }\n",
       "\n",
       "    .dataframe tbody tr th {\n",
       "        vertical-align: top;\n",
       "    }\n",
       "\n",
       "    .dataframe thead th {\n",
       "        text-align: right;\n",
       "    }\n",
       "</style>\n",
       "<table border=\"1\" class=\"dataframe\">\n",
       "  <thead>\n",
       "    <tr style=\"text-align: right;\">\n",
       "      <th></th>\n",
       "      <th>Cement</th>\n",
       "      <th>Water</th>\n",
       "      <th>Superplasticizer</th>\n",
       "      <th>Age</th>\n",
       "    </tr>\n",
       "  </thead>\n",
       "  <tbody>\n",
       "    <tr>\n",
       "      <th>0</th>\n",
       "      <td>-0.08380</td>\n",
       "      <td>2.492207</td>\n",
       "      <td>-1.165541</td>\n",
       "      <td>2.048065</td>\n",
       "    </tr>\n",
       "    <tr>\n",
       "      <th>1</th>\n",
       "      <td>1.06068</td>\n",
       "      <td>2.492207</td>\n",
       "      <td>-1.165541</td>\n",
       "      <td>-0.142955</td>\n",
       "    </tr>\n",
       "  </tbody>\n",
       "</table>\n",
       "</div>"
      ],
      "text/plain": [
       "    Cement     Water  Superplasticizer       Age\n",
       "0 -0.08380  2.492207         -1.165541  2.048065\n",
       "1  1.06068  2.492207         -1.165541 -0.142955"
      ]
     },
     "execution_count": 11,
     "metadata": {},
     "output_type": "execute_result"
    }
   ],
   "source": [
    "dfX_scaled = (dfX - dfX.mean()) / dfX.std(ddof=0) # обязательный параметр ddof=0\n",
    "dfX_scaled[:2]"
   ]
  },
  {
   "cell_type": "code",
   "execution_count": 12,
   "id": "e266c117-6def-4674-8c65-c7c09a4de731",
   "metadata": {},
   "outputs": [
    {
     "data": {
      "text/html": [
       "<div>\n",
       "<style scoped>\n",
       "    .dataframe tbody tr th:only-of-type {\n",
       "        vertical-align: middle;\n",
       "    }\n",
       "\n",
       "    .dataframe tbody tr th {\n",
       "        vertical-align: top;\n",
       "    }\n",
       "\n",
       "    .dataframe thead th {\n",
       "        text-align: right;\n",
       "    }\n",
       "</style>\n",
       "<table border=\"1\" class=\"dataframe\">\n",
       "  <thead>\n",
       "    <tr style=\"text-align: right;\">\n",
       "      <th></th>\n",
       "      <th>Concrete_compressive_strength</th>\n",
       "    </tr>\n",
       "  </thead>\n",
       "  <tbody>\n",
       "    <tr>\n",
       "      <th>0</th>\n",
       "      <td>0.762549</td>\n",
       "    </tr>\n",
       "    <tr>\n",
       "      <th>1</th>\n",
       "      <td>0.111786</td>\n",
       "    </tr>\n",
       "  </tbody>\n",
       "</table>\n",
       "</div>"
      ],
      "text/plain": [
       "   Concrete_compressive_strength\n",
       "0                       0.762549\n",
       "1                       0.111786"
      ]
     },
     "execution_count": 12,
     "metadata": {},
     "output_type": "execute_result"
    }
   ],
   "source": [
    "dfY_scaled = (dfY - dfY.mean()) / dfY.std(ddof=0) # обязательный параметр ddof=0\n",
    "dfY_scaled[:2]"
   ]
  },
  {
   "cell_type": "markdown",
   "id": "1e85a91b",
   "metadata": {
    "id": "1e85a91b"
   },
   "source": [
    "## Стандартизация. Способ #2."
   ]
  },
  {
   "cell_type": "markdown",
   "id": "8dafeeb6",
   "metadata": {
    "id": "8dafeeb6"
   },
   "source": [
    "В библиотеке scikit-learn, для выполнения процедуры стандартизации, присутствует более удобный класс __sklearn.preprocessing.StandardScaler__, который содержит методы:\n",
    "\n",
    "- __StandardScaler.fit(  X  )__ - вычисление значений __среднего__ и __дисперсии__\n",
    "\n",
    "- __StandardScaler.transform( X )__ - прямого преобразования из истинного значения к приведенному\n",
    "\n",
    "- __StandardScaler.inverse_transform( X )__ - обратного преобразования из приведенного значения в истинное"
   ]
  },
  {
   "cell_type": "code",
   "execution_count": 13,
   "id": "4e8512b5",
   "metadata": {
    "id": "4e8512b5"
   },
   "outputs": [],
   "source": [
    "from sklearn.preprocessing import StandardScaler\n",
    "scalerStdX = StandardScaler()\n",
    "scalerStdY = StandardScaler()"
   ]
  },
  {
   "cell_type": "code",
   "execution_count": 14,
   "id": "08649324",
   "metadata": {
    "code_folding": [],
    "colab": {
     "base_uri": "https://localhost:8080/"
    },
    "executionInfo": {
     "elapsed": 24,
     "status": "ok",
     "timestamp": 1636467906482,
     "user": {
      "displayName": "Александр Каманин",
      "photoUrl": "https://lh3.googleusercontent.com/a-/AOh14GgkGTaBzc5npyXmB1kMNElchDZjv535Es-zCi5M7A=s64",
      "userId": "08945778002843785975"
     },
     "user_tz": -420
    },
    "id": "08649324",
    "outputId": "80dc565f-7ce8-43ae-c6f6-e96c5beda4b9"
   },
   "outputs": [
    {
     "data": {
      "text/html": [
       "<style>#sk-container-id-1 {\n",
       "  /* Definition of color scheme common for light and dark mode */\n",
       "  --sklearn-color-text: black;\n",
       "  --sklearn-color-line: gray;\n",
       "  /* Definition of color scheme for unfitted estimators */\n",
       "  --sklearn-color-unfitted-level-0: #fff5e6;\n",
       "  --sklearn-color-unfitted-level-1: #f6e4d2;\n",
       "  --sklearn-color-unfitted-level-2: #ffe0b3;\n",
       "  --sklearn-color-unfitted-level-3: chocolate;\n",
       "  /* Definition of color scheme for fitted estimators */\n",
       "  --sklearn-color-fitted-level-0: #f0f8ff;\n",
       "  --sklearn-color-fitted-level-1: #d4ebff;\n",
       "  --sklearn-color-fitted-level-2: #b3dbfd;\n",
       "  --sklearn-color-fitted-level-3: cornflowerblue;\n",
       "\n",
       "  /* Specific color for light theme */\n",
       "  --sklearn-color-text-on-default-background: var(--sg-text-color, var(--theme-code-foreground, var(--jp-content-font-color1, black)));\n",
       "  --sklearn-color-background: var(--sg-background-color, var(--theme-background, var(--jp-layout-color0, white)));\n",
       "  --sklearn-color-border-box: var(--sg-text-color, var(--theme-code-foreground, var(--jp-content-font-color1, black)));\n",
       "  --sklearn-color-icon: #696969;\n",
       "\n",
       "  @media (prefers-color-scheme: dark) {\n",
       "    /* Redefinition of color scheme for dark theme */\n",
       "    --sklearn-color-text-on-default-background: var(--sg-text-color, var(--theme-code-foreground, var(--jp-content-font-color1, white)));\n",
       "    --sklearn-color-background: var(--sg-background-color, var(--theme-background, var(--jp-layout-color0, #111)));\n",
       "    --sklearn-color-border-box: var(--sg-text-color, var(--theme-code-foreground, var(--jp-content-font-color1, white)));\n",
       "    --sklearn-color-icon: #878787;\n",
       "  }\n",
       "}\n",
       "\n",
       "#sk-container-id-1 {\n",
       "  color: var(--sklearn-color-text);\n",
       "}\n",
       "\n",
       "#sk-container-id-1 pre {\n",
       "  padding: 0;\n",
       "}\n",
       "\n",
       "#sk-container-id-1 input.sk-hidden--visually {\n",
       "  border: 0;\n",
       "  clip: rect(1px 1px 1px 1px);\n",
       "  clip: rect(1px, 1px, 1px, 1px);\n",
       "  height: 1px;\n",
       "  margin: -1px;\n",
       "  overflow: hidden;\n",
       "  padding: 0;\n",
       "  position: absolute;\n",
       "  width: 1px;\n",
       "}\n",
       "\n",
       "#sk-container-id-1 div.sk-dashed-wrapped {\n",
       "  border: 1px dashed var(--sklearn-color-line);\n",
       "  margin: 0 0.4em 0.5em 0.4em;\n",
       "  box-sizing: border-box;\n",
       "  padding-bottom: 0.4em;\n",
       "  background-color: var(--sklearn-color-background);\n",
       "}\n",
       "\n",
       "#sk-container-id-1 div.sk-container {\n",
       "  /* jupyter's `normalize.less` sets `[hidden] { display: none; }`\n",
       "     but bootstrap.min.css set `[hidden] { display: none !important; }`\n",
       "     so we also need the `!important` here to be able to override the\n",
       "     default hidden behavior on the sphinx rendered scikit-learn.org.\n",
       "     See: https://github.com/scikit-learn/scikit-learn/issues/21755 */\n",
       "  display: inline-block !important;\n",
       "  position: relative;\n",
       "}\n",
       "\n",
       "#sk-container-id-1 div.sk-text-repr-fallback {\n",
       "  display: none;\n",
       "}\n",
       "\n",
       "div.sk-parallel-item,\n",
       "div.sk-serial,\n",
       "div.sk-item {\n",
       "  /* draw centered vertical line to link estimators */\n",
       "  background-image: linear-gradient(var(--sklearn-color-text-on-default-background), var(--sklearn-color-text-on-default-background));\n",
       "  background-size: 2px 100%;\n",
       "  background-repeat: no-repeat;\n",
       "  background-position: center center;\n",
       "}\n",
       "\n",
       "/* Parallel-specific style estimator block */\n",
       "\n",
       "#sk-container-id-1 div.sk-parallel-item::after {\n",
       "  content: \"\";\n",
       "  width: 100%;\n",
       "  border-bottom: 2px solid var(--sklearn-color-text-on-default-background);\n",
       "  flex-grow: 1;\n",
       "}\n",
       "\n",
       "#sk-container-id-1 div.sk-parallel {\n",
       "  display: flex;\n",
       "  align-items: stretch;\n",
       "  justify-content: center;\n",
       "  background-color: var(--sklearn-color-background);\n",
       "  position: relative;\n",
       "}\n",
       "\n",
       "#sk-container-id-1 div.sk-parallel-item {\n",
       "  display: flex;\n",
       "  flex-direction: column;\n",
       "}\n",
       "\n",
       "#sk-container-id-1 div.sk-parallel-item:first-child::after {\n",
       "  align-self: flex-end;\n",
       "  width: 50%;\n",
       "}\n",
       "\n",
       "#sk-container-id-1 div.sk-parallel-item:last-child::after {\n",
       "  align-self: flex-start;\n",
       "  width: 50%;\n",
       "}\n",
       "\n",
       "#sk-container-id-1 div.sk-parallel-item:only-child::after {\n",
       "  width: 0;\n",
       "}\n",
       "\n",
       "/* Serial-specific style estimator block */\n",
       "\n",
       "#sk-container-id-1 div.sk-serial {\n",
       "  display: flex;\n",
       "  flex-direction: column;\n",
       "  align-items: center;\n",
       "  background-color: var(--sklearn-color-background);\n",
       "  padding-right: 1em;\n",
       "  padding-left: 1em;\n",
       "}\n",
       "\n",
       "\n",
       "/* Toggleable style: style used for estimator/Pipeline/ColumnTransformer box that is\n",
       "clickable and can be expanded/collapsed.\n",
       "- Pipeline and ColumnTransformer use this feature and define the default style\n",
       "- Estimators will overwrite some part of the style using the `sk-estimator` class\n",
       "*/\n",
       "\n",
       "/* Pipeline and ColumnTransformer style (default) */\n",
       "\n",
       "#sk-container-id-1 div.sk-toggleable {\n",
       "  /* Default theme specific background. It is overwritten whether we have a\n",
       "  specific estimator or a Pipeline/ColumnTransformer */\n",
       "  background-color: var(--sklearn-color-background);\n",
       "}\n",
       "\n",
       "/* Toggleable label */\n",
       "#sk-container-id-1 label.sk-toggleable__label {\n",
       "  cursor: pointer;\n",
       "  display: block;\n",
       "  width: 100%;\n",
       "  margin-bottom: 0;\n",
       "  padding: 0.5em;\n",
       "  box-sizing: border-box;\n",
       "  text-align: center;\n",
       "}\n",
       "\n",
       "#sk-container-id-1 label.sk-toggleable__label-arrow:before {\n",
       "  /* Arrow on the left of the label */\n",
       "  content: \"▸\";\n",
       "  float: left;\n",
       "  margin-right: 0.25em;\n",
       "  color: var(--sklearn-color-icon);\n",
       "}\n",
       "\n",
       "#sk-container-id-1 label.sk-toggleable__label-arrow:hover:before {\n",
       "  color: var(--sklearn-color-text);\n",
       "}\n",
       "\n",
       "/* Toggleable content - dropdown */\n",
       "\n",
       "#sk-container-id-1 div.sk-toggleable__content {\n",
       "  max-height: 0;\n",
       "  max-width: 0;\n",
       "  overflow: hidden;\n",
       "  text-align: left;\n",
       "  /* unfitted */\n",
       "  background-color: var(--sklearn-color-unfitted-level-0);\n",
       "}\n",
       "\n",
       "#sk-container-id-1 div.sk-toggleable__content.fitted {\n",
       "  /* fitted */\n",
       "  background-color: var(--sklearn-color-fitted-level-0);\n",
       "}\n",
       "\n",
       "#sk-container-id-1 div.sk-toggleable__content pre {\n",
       "  margin: 0.2em;\n",
       "  border-radius: 0.25em;\n",
       "  color: var(--sklearn-color-text);\n",
       "  /* unfitted */\n",
       "  background-color: var(--sklearn-color-unfitted-level-0);\n",
       "}\n",
       "\n",
       "#sk-container-id-1 div.sk-toggleable__content.fitted pre {\n",
       "  /* unfitted */\n",
       "  background-color: var(--sklearn-color-fitted-level-0);\n",
       "}\n",
       "\n",
       "#sk-container-id-1 input.sk-toggleable__control:checked~div.sk-toggleable__content {\n",
       "  /* Expand drop-down */\n",
       "  max-height: 200px;\n",
       "  max-width: 100%;\n",
       "  overflow: auto;\n",
       "}\n",
       "\n",
       "#sk-container-id-1 input.sk-toggleable__control:checked~label.sk-toggleable__label-arrow:before {\n",
       "  content: \"▾\";\n",
       "}\n",
       "\n",
       "/* Pipeline/ColumnTransformer-specific style */\n",
       "\n",
       "#sk-container-id-1 div.sk-label input.sk-toggleable__control:checked~label.sk-toggleable__label {\n",
       "  color: var(--sklearn-color-text);\n",
       "  background-color: var(--sklearn-color-unfitted-level-2);\n",
       "}\n",
       "\n",
       "#sk-container-id-1 div.sk-label.fitted input.sk-toggleable__control:checked~label.sk-toggleable__label {\n",
       "  background-color: var(--sklearn-color-fitted-level-2);\n",
       "}\n",
       "\n",
       "/* Estimator-specific style */\n",
       "\n",
       "/* Colorize estimator box */\n",
       "#sk-container-id-1 div.sk-estimator input.sk-toggleable__control:checked~label.sk-toggleable__label {\n",
       "  /* unfitted */\n",
       "  background-color: var(--sklearn-color-unfitted-level-2);\n",
       "}\n",
       "\n",
       "#sk-container-id-1 div.sk-estimator.fitted input.sk-toggleable__control:checked~label.sk-toggleable__label {\n",
       "  /* fitted */\n",
       "  background-color: var(--sklearn-color-fitted-level-2);\n",
       "}\n",
       "\n",
       "#sk-container-id-1 div.sk-label label.sk-toggleable__label,\n",
       "#sk-container-id-1 div.sk-label label {\n",
       "  /* The background is the default theme color */\n",
       "  color: var(--sklearn-color-text-on-default-background);\n",
       "}\n",
       "\n",
       "/* On hover, darken the color of the background */\n",
       "#sk-container-id-1 div.sk-label:hover label.sk-toggleable__label {\n",
       "  color: var(--sklearn-color-text);\n",
       "  background-color: var(--sklearn-color-unfitted-level-2);\n",
       "}\n",
       "\n",
       "/* Label box, darken color on hover, fitted */\n",
       "#sk-container-id-1 div.sk-label.fitted:hover label.sk-toggleable__label.fitted {\n",
       "  color: var(--sklearn-color-text);\n",
       "  background-color: var(--sklearn-color-fitted-level-2);\n",
       "}\n",
       "\n",
       "/* Estimator label */\n",
       "\n",
       "#sk-container-id-1 div.sk-label label {\n",
       "  font-family: monospace;\n",
       "  font-weight: bold;\n",
       "  display: inline-block;\n",
       "  line-height: 1.2em;\n",
       "}\n",
       "\n",
       "#sk-container-id-1 div.sk-label-container {\n",
       "  text-align: center;\n",
       "}\n",
       "\n",
       "/* Estimator-specific */\n",
       "#sk-container-id-1 div.sk-estimator {\n",
       "  font-family: monospace;\n",
       "  border: 1px dotted var(--sklearn-color-border-box);\n",
       "  border-radius: 0.25em;\n",
       "  box-sizing: border-box;\n",
       "  margin-bottom: 0.5em;\n",
       "  /* unfitted */\n",
       "  background-color: var(--sklearn-color-unfitted-level-0);\n",
       "}\n",
       "\n",
       "#sk-container-id-1 div.sk-estimator.fitted {\n",
       "  /* fitted */\n",
       "  background-color: var(--sklearn-color-fitted-level-0);\n",
       "}\n",
       "\n",
       "/* on hover */\n",
       "#sk-container-id-1 div.sk-estimator:hover {\n",
       "  /* unfitted */\n",
       "  background-color: var(--sklearn-color-unfitted-level-2);\n",
       "}\n",
       "\n",
       "#sk-container-id-1 div.sk-estimator.fitted:hover {\n",
       "  /* fitted */\n",
       "  background-color: var(--sklearn-color-fitted-level-2);\n",
       "}\n",
       "\n",
       "/* Specification for estimator info (e.g. \"i\" and \"?\") */\n",
       "\n",
       "/* Common style for \"i\" and \"?\" */\n",
       "\n",
       ".sk-estimator-doc-link,\n",
       "a:link.sk-estimator-doc-link,\n",
       "a:visited.sk-estimator-doc-link {\n",
       "  float: right;\n",
       "  font-size: smaller;\n",
       "  line-height: 1em;\n",
       "  font-family: monospace;\n",
       "  background-color: var(--sklearn-color-background);\n",
       "  border-radius: 1em;\n",
       "  height: 1em;\n",
       "  width: 1em;\n",
       "  text-decoration: none !important;\n",
       "  margin-left: 1ex;\n",
       "  /* unfitted */\n",
       "  border: var(--sklearn-color-unfitted-level-1) 1pt solid;\n",
       "  color: var(--sklearn-color-unfitted-level-1);\n",
       "}\n",
       "\n",
       ".sk-estimator-doc-link.fitted,\n",
       "a:link.sk-estimator-doc-link.fitted,\n",
       "a:visited.sk-estimator-doc-link.fitted {\n",
       "  /* fitted */\n",
       "  border: var(--sklearn-color-fitted-level-1) 1pt solid;\n",
       "  color: var(--sklearn-color-fitted-level-1);\n",
       "}\n",
       "\n",
       "/* On hover */\n",
       "div.sk-estimator:hover .sk-estimator-doc-link:hover,\n",
       ".sk-estimator-doc-link:hover,\n",
       "div.sk-label-container:hover .sk-estimator-doc-link:hover,\n",
       ".sk-estimator-doc-link:hover {\n",
       "  /* unfitted */\n",
       "  background-color: var(--sklearn-color-unfitted-level-3);\n",
       "  color: var(--sklearn-color-background);\n",
       "  text-decoration: none;\n",
       "}\n",
       "\n",
       "div.sk-estimator.fitted:hover .sk-estimator-doc-link.fitted:hover,\n",
       ".sk-estimator-doc-link.fitted:hover,\n",
       "div.sk-label-container:hover .sk-estimator-doc-link.fitted:hover,\n",
       ".sk-estimator-doc-link.fitted:hover {\n",
       "  /* fitted */\n",
       "  background-color: var(--sklearn-color-fitted-level-3);\n",
       "  color: var(--sklearn-color-background);\n",
       "  text-decoration: none;\n",
       "}\n",
       "\n",
       "/* Span, style for the box shown on hovering the info icon */\n",
       ".sk-estimator-doc-link span {\n",
       "  display: none;\n",
       "  z-index: 9999;\n",
       "  position: relative;\n",
       "  font-weight: normal;\n",
       "  right: .2ex;\n",
       "  padding: .5ex;\n",
       "  margin: .5ex;\n",
       "  width: min-content;\n",
       "  min-width: 20ex;\n",
       "  max-width: 50ex;\n",
       "  color: var(--sklearn-color-text);\n",
       "  box-shadow: 2pt 2pt 4pt #999;\n",
       "  /* unfitted */\n",
       "  background: var(--sklearn-color-unfitted-level-0);\n",
       "  border: .5pt solid var(--sklearn-color-unfitted-level-3);\n",
       "}\n",
       "\n",
       ".sk-estimator-doc-link.fitted span {\n",
       "  /* fitted */\n",
       "  background: var(--sklearn-color-fitted-level-0);\n",
       "  border: var(--sklearn-color-fitted-level-3);\n",
       "}\n",
       "\n",
       ".sk-estimator-doc-link:hover span {\n",
       "  display: block;\n",
       "}\n",
       "\n",
       "/* \"?\"-specific style due to the `<a>` HTML tag */\n",
       "\n",
       "#sk-container-id-1 a.estimator_doc_link {\n",
       "  float: right;\n",
       "  font-size: 1rem;\n",
       "  line-height: 1em;\n",
       "  font-family: monospace;\n",
       "  background-color: var(--sklearn-color-background);\n",
       "  border-radius: 1rem;\n",
       "  height: 1rem;\n",
       "  width: 1rem;\n",
       "  text-decoration: none;\n",
       "  /* unfitted */\n",
       "  color: var(--sklearn-color-unfitted-level-1);\n",
       "  border: var(--sklearn-color-unfitted-level-1) 1pt solid;\n",
       "}\n",
       "\n",
       "#sk-container-id-1 a.estimator_doc_link.fitted {\n",
       "  /* fitted */\n",
       "  border: var(--sklearn-color-fitted-level-1) 1pt solid;\n",
       "  color: var(--sklearn-color-fitted-level-1);\n",
       "}\n",
       "\n",
       "/* On hover */\n",
       "#sk-container-id-1 a.estimator_doc_link:hover {\n",
       "  /* unfitted */\n",
       "  background-color: var(--sklearn-color-unfitted-level-3);\n",
       "  color: var(--sklearn-color-background);\n",
       "  text-decoration: none;\n",
       "}\n",
       "\n",
       "#sk-container-id-1 a.estimator_doc_link.fitted:hover {\n",
       "  /* fitted */\n",
       "  background-color: var(--sklearn-color-fitted-level-3);\n",
       "}\n",
       "</style><div id=\"sk-container-id-1\" class=\"sk-top-container\"><div class=\"sk-text-repr-fallback\"><pre>StandardScaler()</pre><b>In a Jupyter environment, please rerun this cell to show the HTML representation or trust the notebook. <br />On GitHub, the HTML representation is unable to render, please try loading this page with nbviewer.org.</b></div><div class=\"sk-container\" hidden><div class=\"sk-item\"><div class=\"sk-estimator fitted sk-toggleable\"><input class=\"sk-toggleable__control sk-hidden--visually\" id=\"sk-estimator-id-1\" type=\"checkbox\" checked><label for=\"sk-estimator-id-1\" class=\"sk-toggleable__label fitted sk-toggleable__label-arrow fitted\">&nbsp;&nbsp;StandardScaler<a class=\"sk-estimator-doc-link fitted\" rel=\"noreferrer\" target=\"_blank\" href=\"https://scikit-learn.org/1.5/modules/generated/sklearn.preprocessing.StandardScaler.html\">?<span>Documentation for StandardScaler</span></a><span class=\"sk-estimator-doc-link fitted\">i<span>Fitted</span></span></label><div class=\"sk-toggleable__content fitted\"><pre>StandardScaler()</pre></div> </div></div></div></div>"
      ],
      "text/plain": [
       "StandardScaler()"
      ]
     },
     "execution_count": 14,
     "metadata": {},
     "output_type": "execute_result"
    }
   ],
   "source": [
    "#  вычисление значений среднего и дисперсии отдельно для каждого признака\n",
    "scalerStdX.fit (dfX)\n",
    "scalerStdY.fit (dfY)"
   ]
  },
  {
   "cell_type": "code",
   "execution_count": 15,
   "id": "b8f0b20f",
   "metadata": {
    "colab": {
     "base_uri": "https://localhost:8080/"
    },
    "executionInfo": {
     "elapsed": 21,
     "status": "ok",
     "timestamp": 1636467906482,
     "user": {
      "displayName": "Александр Каманин",
      "photoUrl": "https://lh3.googleusercontent.com/a-/AOh14GgkGTaBzc5npyXmB1kMNElchDZjv535Es-zCi5M7A=s64",
      "userId": "08945778002843785975"
     },
     "user_tz": -420
    },
    "id": "b8f0b20f",
    "outputId": "7c6afaed-4268-4ac9-f7a3-5ecbf9d104dc"
   },
   "outputs": [
    {
     "name": "stdout",
     "output_type": "stream",
     "text": [
      "   № Признак                            Средрее      Ср.кв.откл.\n",
      "   0 Cement                             274.347           99.609\n",
      "   1 Water                              180.325           19.130\n",
      "   2 Superplasticizer                     6.351            5.449\n",
      "   3 Age                                 32.045           28.297\n"
     ]
    }
   ],
   "source": [
    "print (\" {:>3} {:<25} {:>16} {:>16}\".format(\n",
    " \"№\", \"Признак\", \"Средрее\", \"Ср.кв.откл.\"\n",
    "))\n",
    "\n",
    "for icol in range (0, len(dfX.columns)):\n",
    "    print (\" {:>3} {:<25} {:>16.3f} {:>16.3f}\".format(\n",
    "                   icol,\n",
    "                   dfX.columns[icol],\n",
    "                   scalerStdX.mean_[icol],\n",
    "                   np.sqrt ( scalerStdX.var_[icol]), # кв. корень (из дисперсии)\n",
    "                  ))"
   ]
  },
  {
   "cell_type": "markdown",
   "id": "7770d28b",
   "metadata": {
    "id": "7770d28b"
   },
   "source": [
    "При прямом преобразовании значений (функция transform()) данные возвращаются без информации о принадлежности к строкам и столбцам."
   ]
  },
  {
   "cell_type": "code",
   "execution_count": 16,
   "id": "6dc1a506",
   "metadata": {
    "colab": {
     "base_uri": "https://localhost:8080/"
    },
    "executionInfo": {
     "elapsed": 20,
     "status": "ok",
     "timestamp": 1636467906483,
     "user": {
      "displayName": "Александр Каманин",
      "photoUrl": "https://lh3.googleusercontent.com/a-/AOh14GgkGTaBzc5npyXmB1kMNElchDZjv535Es-zCi5M7A=s64",
      "userId": "08945778002843785975"
     },
     "user_tz": -420
    },
    "id": "6dc1a506",
    "outputId": "799af476-7c1b-4789-aa12-5ad781c9d438",
    "scrolled": true
   },
   "outputs": [
    {
     "data": {
      "text/plain": [
       "array([[-0.08380047,  2.49220696, -1.16554125,  2.04806452],\n",
       "       [ 1.06067999,  2.49220696, -1.16554125, -0.14295535],\n",
       "       [-0.08380047,  2.49220696, -1.16554125, -0.14295535],\n",
       "       ...,\n",
       "       [-1.2634185 ,  0.64691713, -0.04606258, -0.14295535],\n",
       "       [-1.15700189, -0.24697682,  0.90824711, -0.14295535],\n",
       "       [-0.13500091,  1.05988567,  0.41274015, -0.14295535]])"
      ]
     },
     "execution_count": 16,
     "metadata": {},
     "output_type": "execute_result"
    }
   ],
   "source": [
    "# Пример для осмотра предварительного результата\n",
    "scalerStdX.transform(dfX)"
   ]
  },
  {
   "cell_type": "markdown",
   "id": "3fc54639",
   "metadata": {
    "id": "3fc54639"
   },
   "source": [
    "Для удобства восприятия сформируем новую таблицу (DataFrame) с указанием названий признаков и идентификаторов строк, соответствующих таблице-оригиналу."
   ]
  },
  {
   "cell_type": "code",
   "execution_count": 17,
   "id": "a7e83227",
   "metadata": {
    "colab": {
     "base_uri": "https://localhost:8080/",
     "height": 110
    },
    "executionInfo": {
     "elapsed": 18,
     "status": "ok",
     "timestamp": 1636467906483,
     "user": {
      "displayName": "Александр Каманин",
      "photoUrl": "https://lh3.googleusercontent.com/a-/AOh14GgkGTaBzc5npyXmB1kMNElchDZjv535Es-zCi5M7A=s64",
      "userId": "08945778002843785975"
     },
     "user_tz": -420
    },
    "id": "a7e83227",
    "outputId": "a78867df-9c46-484e-e031-923d553ced9d"
   },
   "outputs": [
    {
     "name": "stdout",
     "output_type": "stream",
     "text": [
      "Размер таблицы (906, 4)\n"
     ]
    },
    {
     "data": {
      "text/html": [
       "<div>\n",
       "<style scoped>\n",
       "    .dataframe tbody tr th:only-of-type {\n",
       "        vertical-align: middle;\n",
       "    }\n",
       "\n",
       "    .dataframe tbody tr th {\n",
       "        vertical-align: top;\n",
       "    }\n",
       "\n",
       "    .dataframe thead th {\n",
       "        text-align: right;\n",
       "    }\n",
       "</style>\n",
       "<table border=\"1\" class=\"dataframe\">\n",
       "  <thead>\n",
       "    <tr style=\"text-align: right;\">\n",
       "      <th></th>\n",
       "      <th>Cement</th>\n",
       "      <th>Water</th>\n",
       "      <th>Superplasticizer</th>\n",
       "      <th>Age</th>\n",
       "    </tr>\n",
       "  </thead>\n",
       "  <tbody>\n",
       "    <tr>\n",
       "      <th>0</th>\n",
       "      <td>-0.08380</td>\n",
       "      <td>2.492207</td>\n",
       "      <td>-1.165541</td>\n",
       "      <td>2.048065</td>\n",
       "    </tr>\n",
       "    <tr>\n",
       "      <th>1</th>\n",
       "      <td>1.06068</td>\n",
       "      <td>2.492207</td>\n",
       "      <td>-1.165541</td>\n",
       "      <td>-0.142955</td>\n",
       "    </tr>\n",
       "  </tbody>\n",
       "</table>\n",
       "</div>"
      ],
      "text/plain": [
       "    Cement     Water  Superplasticizer       Age\n",
       "0 -0.08380  2.492207         -1.165541  2.048065\n",
       "1  1.06068  2.492207         -1.165541 -0.142955"
      ]
     },
     "execution_count": 17,
     "metadata": {},
     "output_type": "execute_result"
    }
   ],
   "source": [
    "# создать новую таблицу (DataFrame)\n",
    "# со стандартизированными значениями\n",
    "\n",
    "dfXStd = pd.DataFrame (\n",
    "  data    = scalerStdX.transform(dfX), # значения ячеек    <<--\n",
    "  columns = dfX.columns,           # названия столбцов\n",
    "  index   = dfX.index              # идентификаторы строк\n",
    ")\n",
    "print(\"Размер таблицы\", dfXStd.shape)\n",
    "dfXStd[:2]"
   ]
  },
  {
   "cell_type": "code",
   "execution_count": 18,
   "id": "2d8a74e9-3dd1-46a0-b679-dbd84d8070fb",
   "metadata": {},
   "outputs": [
    {
     "name": "stdout",
     "output_type": "stream",
     "text": [
      "Размер таблицы (906, 1)\n"
     ]
    },
    {
     "data": {
      "text/html": [
       "<div>\n",
       "<style scoped>\n",
       "    .dataframe tbody tr th:only-of-type {\n",
       "        vertical-align: middle;\n",
       "    }\n",
       "\n",
       "    .dataframe tbody tr th {\n",
       "        vertical-align: top;\n",
       "    }\n",
       "\n",
       "    .dataframe thead th {\n",
       "        text-align: right;\n",
       "    }\n",
       "</style>\n",
       "<table border=\"1\" class=\"dataframe\">\n",
       "  <thead>\n",
       "    <tr style=\"text-align: right;\">\n",
       "      <th></th>\n",
       "      <th>Concrete_compressive_strength</th>\n",
       "    </tr>\n",
       "  </thead>\n",
       "  <tbody>\n",
       "    <tr>\n",
       "      <th>0</th>\n",
       "      <td>0.762549</td>\n",
       "    </tr>\n",
       "    <tr>\n",
       "      <th>1</th>\n",
       "      <td>0.111786</td>\n",
       "    </tr>\n",
       "  </tbody>\n",
       "</table>\n",
       "</div>"
      ],
      "text/plain": [
       "   Concrete_compressive_strength\n",
       "0                       0.762549\n",
       "1                       0.111786"
      ]
     },
     "execution_count": 18,
     "metadata": {},
     "output_type": "execute_result"
    }
   ],
   "source": [
    "# создать новую таблицу (DataFrame)\n",
    "# со стандартизированными значениями\n",
    "\n",
    "dfYStd = pd.DataFrame (\n",
    "  data    = scalerStdY.transform(dfY), # значения ячеек    <<--\n",
    "  columns = dfY.columns,           # названия столбцов\n",
    "  index   = dfY.index              # идентификаторы строк\n",
    ")\n",
    "print(\"Размер таблицы\", dfYStd.shape)\n",
    "dfYStd[:2]"
   ]
  },
  {
   "cell_type": "markdown",
   "id": "4d696c94",
   "metadata": {
    "id": "4d696c94"
   },
   "source": [
    "Используя класс  __sklearn.preprocessing.StandardScaler__ становится доступна операция обратного предобразования к исходным НЕ стандартизированным значениям. Этот прием пригодится позже при работе с обученной моделью."
   ]
  },
  {
   "cell_type": "code",
   "execution_count": 19,
   "id": "68cd01cc",
   "metadata": {
    "colab": {
     "base_uri": "https://localhost:8080/",
     "height": 80
    },
    "executionInfo": {
     "elapsed": 17,
     "status": "ok",
     "timestamp": 1636467906483,
     "user": {
      "displayName": "Александр Каманин",
      "photoUrl": "https://lh3.googleusercontent.com/a-/AOh14GgkGTaBzc5npyXmB1kMNElchDZjv535Es-zCi5M7A=s64",
      "userId": "08945778002843785975"
     },
     "user_tz": -420
    },
    "id": "68cd01cc",
    "outputId": "5413302b-9d78-4816-df0b-e2d2800d75d6"
   },
   "outputs": [
    {
     "data": {
      "text/html": [
       "<div>\n",
       "<style scoped>\n",
       "    .dataframe tbody tr th:only-of-type {\n",
       "        vertical-align: middle;\n",
       "    }\n",
       "\n",
       "    .dataframe tbody tr th {\n",
       "        vertical-align: top;\n",
       "    }\n",
       "\n",
       "    .dataframe thead th {\n",
       "        text-align: right;\n",
       "    }\n",
       "</style>\n",
       "<table border=\"1\" class=\"dataframe\">\n",
       "  <thead>\n",
       "    <tr style=\"text-align: right;\">\n",
       "      <th></th>\n",
       "      <th>Concrete_compressive_strength</th>\n",
       "    </tr>\n",
       "  </thead>\n",
       "  <tbody>\n",
       "    <tr>\n",
       "      <th>0</th>\n",
       "      <td>0.762549</td>\n",
       "    </tr>\n",
       "  </tbody>\n",
       "</table>\n",
       "</div>"
      ],
      "text/plain": [
       "   Concrete_compressive_strength\n",
       "0                       0.762549"
      ]
     },
     "execution_count": 19,
     "metadata": {},
     "output_type": "execute_result"
    }
   ],
   "source": [
    "# строка в стандартизированном виде\n",
    "dfYStd [0:1]"
   ]
  },
  {
   "cell_type": "code",
   "execution_count": 20,
   "id": "f000fce6",
   "metadata": {
    "colab": {
     "base_uri": "https://localhost:8080/",
     "height": 80
    },
    "executionInfo": {
     "elapsed": 17,
     "status": "ok",
     "timestamp": 1636467906484,
     "user": {
      "displayName": "Александр Каманин",
      "photoUrl": "https://lh3.googleusercontent.com/a-/AOh14GgkGTaBzc5npyXmB1kMNElchDZjv535Es-zCi5M7A=s64",
      "userId": "08945778002843785975"
     },
     "user_tz": -420
    },
    "id": "f000fce6",
    "outputId": "d13e3e8c-e52e-4398-953d-7915d6b6c449"
   },
   "outputs": [
    {
     "data": {
      "text/html": [
       "<div>\n",
       "<style scoped>\n",
       "    .dataframe tbody tr th:only-of-type {\n",
       "        vertical-align: middle;\n",
       "    }\n",
       "\n",
       "    .dataframe tbody tr th {\n",
       "        vertical-align: top;\n",
       "    }\n",
       "\n",
       "    .dataframe thead th {\n",
       "        text-align: right;\n",
       "    }\n",
       "</style>\n",
       "<table border=\"1\" class=\"dataframe\">\n",
       "  <thead>\n",
       "    <tr style=\"text-align: right;\">\n",
       "      <th></th>\n",
       "      <th>Concrete_compressive_strength</th>\n",
       "    </tr>\n",
       "  </thead>\n",
       "  <tbody>\n",
       "    <tr>\n",
       "      <th>0</th>\n",
       "      <td>47.03</td>\n",
       "    </tr>\n",
       "  </tbody>\n",
       "</table>\n",
       "</div>"
      ],
      "text/plain": [
       "   Concrete_compressive_strength\n",
       "0                          47.03"
      ]
     },
     "execution_count": 20,
     "metadata": {},
     "output_type": "execute_result"
    }
   ],
   "source": [
    "# Результат обратного преобразования обернутый в таблицу (DataFrame)\n",
    "pd.DataFrame (\n",
    "    scalerStdY.inverse_transform(\n",
    "        dfYStd [0:1]  ),\n",
    "    columns = dfY.columns,\n",
    ")"
   ]
  },
  {
   "cell_type": "code",
   "execution_count": 21,
   "id": "6e6d2a98",
   "metadata": {
    "colab": {
     "base_uri": "https://localhost:8080/",
     "height": 80
    },
    "executionInfo": {
     "elapsed": 17,
     "status": "ok",
     "timestamp": 1636467906484,
     "user": {
      "displayName": "Александр Каманин",
      "photoUrl": "https://lh3.googleusercontent.com/a-/AOh14GgkGTaBzc5npyXmB1kMNElchDZjv535Es-zCi5M7A=s64",
      "userId": "08945778002843785975"
     },
     "user_tz": -420
    },
    "id": "6e6d2a98",
    "outputId": "dcf705ad-b3b5-47fe-b0ed-b2a86370aa4b"
   },
   "outputs": [
    {
     "data": {
      "text/html": [
       "<div>\n",
       "<style scoped>\n",
       "    .dataframe tbody tr th:only-of-type {\n",
       "        vertical-align: middle;\n",
       "    }\n",
       "\n",
       "    .dataframe tbody tr th {\n",
       "        vertical-align: top;\n",
       "    }\n",
       "\n",
       "    .dataframe thead th {\n",
       "        text-align: right;\n",
       "    }\n",
       "</style>\n",
       "<table border=\"1\" class=\"dataframe\">\n",
       "  <thead>\n",
       "    <tr style=\"text-align: right;\">\n",
       "      <th></th>\n",
       "      <th>Cement</th>\n",
       "      <th>Blast_Furnace_Slag</th>\n",
       "      <th>Fly_Ash</th>\n",
       "      <th>Water</th>\n",
       "      <th>Superplasticizer</th>\n",
       "      <th>Coarse_Aggregate</th>\n",
       "      <th>Fine_Aggregate</th>\n",
       "      <th>Age</th>\n",
       "      <th>Concrete_compressive_strength</th>\n",
       "    </tr>\n",
       "  </thead>\n",
       "  <tbody>\n",
       "    <tr>\n",
       "      <th>0</th>\n",
       "      <td>266.0</td>\n",
       "      <td>114.0</td>\n",
       "      <td>0.0</td>\n",
       "      <td>228.0</td>\n",
       "      <td>0.0</td>\n",
       "      <td>932.0</td>\n",
       "      <td>670.0</td>\n",
       "      <td>90.0</td>\n",
       "      <td>47.03</td>\n",
       "    </tr>\n",
       "  </tbody>\n",
       "</table>\n",
       "</div>"
      ],
      "text/plain": [
       "   Cement  Blast_Furnace_Slag  Fly_Ash  Water  Superplasticizer  \\\n",
       "0   266.0               114.0      0.0  228.0               0.0   \n",
       "\n",
       "   Coarse_Aggregate  Fine_Aggregate   Age  Concrete_compressive_strength  \n",
       "0             932.0           670.0  90.0                          47.03  "
      ]
     },
     "execution_count": 21,
     "metadata": {},
     "output_type": "execute_result"
    }
   ],
   "source": [
    "df [0:1]"
   ]
  },
  {
   "cell_type": "markdown",
   "id": "uM1TQgCH8Xn3",
   "metadata": {
    "id": "uM1TQgCH8Xn3"
   },
   "source": [
    "## Информация по целевой переменной\n",
    "Получим величину среднего значения и дисперсии для целевой переменной"
   ]
  },
  {
   "cell_type": "code",
   "execution_count": 22,
   "id": "cg3QrlIg8YBT",
   "metadata": {
    "colab": {
     "base_uri": "https://localhost:8080/"
    },
    "executionInfo": {
     "elapsed": 17,
     "status": "ok",
     "timestamp": 1636467906485,
     "user": {
      "displayName": "Александр Каманин",
      "photoUrl": "https://lh3.googleusercontent.com/a-/AOh14GgkGTaBzc5npyXmB1kMNElchDZjv535Es-zCi5M7A=s64",
      "userId": "08945778002843785975"
     },
     "user_tz": -420
    },
    "id": "cg3QrlIg8YBT",
    "outputId": "f0adbb25-b6b1-42d7-8a54-ed2d05335c4d",
    "scrolled": true
   },
   "outputs": [
    {
     "name": "stdout",
     "output_type": "stream",
     "text": [
      "   № Целевая переменная                 Среднее       Дисперсия.\n",
      "   0 Concrete_compressive_strength      34.63259382     264.31798323\n"
     ]
    }
   ],
   "source": [
    "scalerStdY.fit (dfY)\n",
    "\n",
    "print (\" {:>3} {:<25} {:>16} {:>16}\".format(\n",
    " \"№\", \"Целевая переменная\", \"Среднее\", \"Дисперсия.\"\n",
    "))\n",
    "print (\" {:>3} {:<25} {:>16.8f} {:>16.8f}\".format( \n",
    "                   0,\n",
    "                   dfY.columns[0],\n",
    "                   scalerStdY.mean_[0],\n",
    "                   scalerStdY.var_[0],\n",
    "                  )\n",
    "          )"
   ]
  },
  {
   "cell_type": "code",
   "execution_count": 23,
   "id": "c97c3654-5981-49f5-8d00-10de9e067c17",
   "metadata": {},
   "outputs": [
    {
     "data": {
      "text/html": [
       "<div>\n",
       "<style scoped>\n",
       "    .dataframe tbody tr th:only-of-type {\n",
       "        vertical-align: middle;\n",
       "    }\n",
       "\n",
       "    .dataframe tbody tr th {\n",
       "        vertical-align: top;\n",
       "    }\n",
       "\n",
       "    .dataframe thead th {\n",
       "        text-align: right;\n",
       "    }\n",
       "</style>\n",
       "<table border=\"1\" class=\"dataframe\">\n",
       "  <thead>\n",
       "    <tr style=\"text-align: right;\">\n",
       "      <th></th>\n",
       "      <th>count</th>\n",
       "      <th>mean</th>\n",
       "      <th>std</th>\n",
       "      <th>min</th>\n",
       "      <th>25%</th>\n",
       "      <th>50%</th>\n",
       "      <th>75%</th>\n",
       "      <th>max</th>\n",
       "    </tr>\n",
       "  </thead>\n",
       "  <tbody>\n",
       "    <tr>\n",
       "      <th>Cement</th>\n",
       "      <td>906.0</td>\n",
       "      <td>274.347241</td>\n",
       "      <td>99.663532</td>\n",
       "      <td>102.00</td>\n",
       "      <td>190.7000</td>\n",
       "      <td>255.15</td>\n",
       "      <td>339.000</td>\n",
       "      <td>528.0</td>\n",
       "    </tr>\n",
       "    <tr>\n",
       "      <th>Blast_Furnace_Slag</th>\n",
       "      <td>906.0</td>\n",
       "      <td>74.285982</td>\n",
       "      <td>87.199507</td>\n",
       "      <td>0.00</td>\n",
       "      <td>0.0000</td>\n",
       "      <td>21.00</td>\n",
       "      <td>144.925</td>\n",
       "      <td>359.4</td>\n",
       "    </tr>\n",
       "    <tr>\n",
       "      <th>Fly_Ash</th>\n",
       "      <td>906.0</td>\n",
       "      <td>58.016887</td>\n",
       "      <td>64.149092</td>\n",
       "      <td>0.00</td>\n",
       "      <td>0.0000</td>\n",
       "      <td>0.00</td>\n",
       "      <td>118.300</td>\n",
       "      <td>200.1</td>\n",
       "    </tr>\n",
       "    <tr>\n",
       "      <th>Water</th>\n",
       "      <td>906.0</td>\n",
       "      <td>180.324614</td>\n",
       "      <td>19.140352</td>\n",
       "      <td>126.60</td>\n",
       "      <td>164.9000</td>\n",
       "      <td>183.90</td>\n",
       "      <td>192.000</td>\n",
       "      <td>228.0</td>\n",
       "    </tr>\n",
       "    <tr>\n",
       "      <th>Superplasticizer</th>\n",
       "      <td>906.0</td>\n",
       "      <td>6.350993</td>\n",
       "      <td>5.451975</td>\n",
       "      <td>0.00</td>\n",
       "      <td>0.0000</td>\n",
       "      <td>7.00</td>\n",
       "      <td>10.400</td>\n",
       "      <td>23.4</td>\n",
       "    </tr>\n",
       "    <tr>\n",
       "      <th>Coarse_Aggregate</th>\n",
       "      <td>906.0</td>\n",
       "      <td>973.790728</td>\n",
       "      <td>77.153714</td>\n",
       "      <td>801.00</td>\n",
       "      <td>932.0000</td>\n",
       "      <td>968.00</td>\n",
       "      <td>1029.400</td>\n",
       "      <td>1145.0</td>\n",
       "    </tr>\n",
       "    <tr>\n",
       "      <th>Fine_Aggregate</th>\n",
       "      <td>906.0</td>\n",
       "      <td>778.665011</td>\n",
       "      <td>76.501808</td>\n",
       "      <td>594.00</td>\n",
       "      <td>741.7500</td>\n",
       "      <td>780.10</td>\n",
       "      <td>825.000</td>\n",
       "      <td>992.6</td>\n",
       "    </tr>\n",
       "    <tr>\n",
       "      <th>Age</th>\n",
       "      <td>906.0</td>\n",
       "      <td>32.045254</td>\n",
       "      <td>28.312954</td>\n",
       "      <td>1.00</td>\n",
       "      <td>7.0000</td>\n",
       "      <td>28.00</td>\n",
       "      <td>28.000</td>\n",
       "      <td>120.0</td>\n",
       "    </tr>\n",
       "    <tr>\n",
       "      <th>Concrete_compressive_strength</th>\n",
       "      <td>906.0</td>\n",
       "      <td>34.632594</td>\n",
       "      <td>16.266839</td>\n",
       "      <td>2.33</td>\n",
       "      <td>22.5775</td>\n",
       "      <td>33.40</td>\n",
       "      <td>44.520</td>\n",
       "      <td>78.8</td>\n",
       "    </tr>\n",
       "  </tbody>\n",
       "</table>\n",
       "</div>"
      ],
      "text/plain": [
       "                               count        mean        std     min       25%  \\\n",
       "Cement                         906.0  274.347241  99.663532  102.00  190.7000   \n",
       "Blast_Furnace_Slag             906.0   74.285982  87.199507    0.00    0.0000   \n",
       "Fly_Ash                        906.0   58.016887  64.149092    0.00    0.0000   \n",
       "Water                          906.0  180.324614  19.140352  126.60  164.9000   \n",
       "Superplasticizer               906.0    6.350993   5.451975    0.00    0.0000   \n",
       "Coarse_Aggregate               906.0  973.790728  77.153714  801.00  932.0000   \n",
       "Fine_Aggregate                 906.0  778.665011  76.501808  594.00  741.7500   \n",
       "Age                            906.0   32.045254  28.312954    1.00    7.0000   \n",
       "Concrete_compressive_strength  906.0   34.632594  16.266839    2.33   22.5775   \n",
       "\n",
       "                                  50%       75%     max  \n",
       "Cement                         255.15   339.000   528.0  \n",
       "Blast_Furnace_Slag              21.00   144.925   359.4  \n",
       "Fly_Ash                          0.00   118.300   200.1  \n",
       "Water                          183.90   192.000   228.0  \n",
       "Superplasticizer                 7.00    10.400    23.4  \n",
       "Coarse_Aggregate               968.00  1029.400  1145.0  \n",
       "Fine_Aggregate                 780.10   825.000   992.6  \n",
       "Age                             28.00    28.000   120.0  \n",
       "Concrete_compressive_strength   33.40    44.520    78.8  "
      ]
     },
     "execution_count": 23,
     "metadata": {},
     "output_type": "execute_result"
    }
   ],
   "source": [
    "df.describe().T"
   ]
  },
  {
   "cell_type": "code",
   "execution_count": 24,
   "id": "8de7d118-eff3-45da-bc33-c325e1430e52",
   "metadata": {},
   "outputs": [
    {
     "data": {
      "text/html": [
       "<div>\n",
       "<style scoped>\n",
       "    .dataframe tbody tr th:only-of-type {\n",
       "        vertical-align: middle;\n",
       "    }\n",
       "\n",
       "    .dataframe tbody tr th {\n",
       "        vertical-align: top;\n",
       "    }\n",
       "\n",
       "    .dataframe thead th {\n",
       "        text-align: right;\n",
       "    }\n",
       "</style>\n",
       "<table border=\"1\" class=\"dataframe\">\n",
       "  <thead>\n",
       "    <tr style=\"text-align: right;\">\n",
       "      <th></th>\n",
       "      <th>count</th>\n",
       "      <th>mean</th>\n",
       "      <th>std</th>\n",
       "      <th>min</th>\n",
       "      <th>25%</th>\n",
       "      <th>50%</th>\n",
       "      <th>75%</th>\n",
       "      <th>max</th>\n",
       "    </tr>\n",
       "  </thead>\n",
       "  <tbody>\n",
       "    <tr>\n",
       "      <th>Concrete_compressive_strength</th>\n",
       "      <td>906.0</td>\n",
       "      <td>1.254822e-16</td>\n",
       "      <td>1.000552</td>\n",
       "      <td>-1.986891</td>\n",
       "      <td>-0.741493</td>\n",
       "      <td>-0.075815</td>\n",
       "      <td>0.608162</td>\n",
       "      <td>2.71668</td>\n",
       "    </tr>\n",
       "  </tbody>\n",
       "</table>\n",
       "</div>"
      ],
      "text/plain": [
       "                               count          mean       std       min  \\\n",
       "Concrete_compressive_strength  906.0  1.254822e-16  1.000552 -1.986891   \n",
       "\n",
       "                                    25%       50%       75%      max  \n",
       "Concrete_compressive_strength -0.741493 -0.075815  0.608162  2.71668  "
      ]
     },
     "execution_count": 24,
     "metadata": {},
     "output_type": "execute_result"
    }
   ],
   "source": [
    "dfYStd.describe().T"
   ]
  },
  {
   "cell_type": "code",
   "execution_count": 25,
   "id": "9b5d2f47-3174-44d7-a638-bfa6485997cf",
   "metadata": {},
   "outputs": [
    {
     "data": {
      "text/html": [
       "<div>\n",
       "<style scoped>\n",
       "    .dataframe tbody tr th:only-of-type {\n",
       "        vertical-align: middle;\n",
       "    }\n",
       "\n",
       "    .dataframe tbody tr th {\n",
       "        vertical-align: top;\n",
       "    }\n",
       "\n",
       "    .dataframe thead th {\n",
       "        text-align: right;\n",
       "    }\n",
       "</style>\n",
       "<table border=\"1\" class=\"dataframe\">\n",
       "  <thead>\n",
       "    <tr style=\"text-align: right;\">\n",
       "      <th></th>\n",
       "      <th>count</th>\n",
       "      <th>mean</th>\n",
       "      <th>std</th>\n",
       "      <th>min</th>\n",
       "      <th>25%</th>\n",
       "      <th>50%</th>\n",
       "      <th>75%</th>\n",
       "      <th>max</th>\n",
       "    </tr>\n",
       "  </thead>\n",
       "  <tbody>\n",
       "    <tr>\n",
       "      <th>Cement</th>\n",
       "      <td>906.0</td>\n",
       "      <td>-3.293907e-16</td>\n",
       "      <td>1.000552</td>\n",
       "      <td>-1.730246</td>\n",
       "      <td>-0.839760</td>\n",
       "      <td>-0.192727</td>\n",
       "      <td>0.649069</td>\n",
       "      <td>2.546497</td>\n",
       "    </tr>\n",
       "    <tr>\n",
       "      <th>Water</th>\n",
       "      <td>906.0</td>\n",
       "      <td>-1.003857e-15</td>\n",
       "      <td>1.000552</td>\n",
       "      <td>-2.808427</td>\n",
       "      <td>-0.806314</td>\n",
       "      <td>0.186902</td>\n",
       "      <td>0.610325</td>\n",
       "      <td>2.492207</td>\n",
       "    </tr>\n",
       "    <tr>\n",
       "      <th>Superplasticizer</th>\n",
       "      <td>906.0</td>\n",
       "      <td>3.137054e-17</td>\n",
       "      <td>1.000552</td>\n",
       "      <td>-1.165541</td>\n",
       "      <td>-1.165541</td>\n",
       "      <td>0.119106</td>\n",
       "      <td>0.743078</td>\n",
       "      <td>3.128852</td>\n",
       "    </tr>\n",
       "    <tr>\n",
       "      <th>Age</th>\n",
       "      <td>906.0</td>\n",
       "      <td>-1.254822e-16</td>\n",
       "      <td>1.000552</td>\n",
       "      <td>-1.097109</td>\n",
       "      <td>-0.885075</td>\n",
       "      <td>-0.142955</td>\n",
       "      <td>-0.142955</td>\n",
       "      <td>3.108235</td>\n",
       "    </tr>\n",
       "  </tbody>\n",
       "</table>\n",
       "</div>"
      ],
      "text/plain": [
       "                  count          mean       std       min       25%       50%  \\\n",
       "Cement            906.0 -3.293907e-16  1.000552 -1.730246 -0.839760 -0.192727   \n",
       "Water             906.0 -1.003857e-15  1.000552 -2.808427 -0.806314  0.186902   \n",
       "Superplasticizer  906.0  3.137054e-17  1.000552 -1.165541 -1.165541  0.119106   \n",
       "Age               906.0 -1.254822e-16  1.000552 -1.097109 -0.885075 -0.142955   \n",
       "\n",
       "                       75%       max  \n",
       "Cement            0.649069  2.546497  \n",
       "Water             0.610325  2.492207  \n",
       "Superplasticizer  0.743078  3.128852  \n",
       "Age              -0.142955  3.108235  "
      ]
     },
     "execution_count": 25,
     "metadata": {},
     "output_type": "execute_result"
    }
   ],
   "source": [
    "dfXStd.describe().T"
   ]
  },
  {
   "cell_type": "markdown",
   "id": "j_G4oZ5D8YUt",
   "metadata": {
    "id": "j_G4oZ5D8YUt"
   },
   "source": [
    "Построим гистограммы распределения исходных и стандартизированных значений для целевого признака"
   ]
  },
  {
   "cell_type": "code",
   "execution_count": 26,
   "id": "n_RUwnO78Yey",
   "metadata": {
    "colab": {
     "base_uri": "https://localhost:8080/",
     "height": 471
    },
    "executionInfo": {
     "elapsed": 798,
     "status": "ok",
     "timestamp": 1636469508848,
     "user": {
      "displayName": "Иван Павлов",
      "photoUrl": "https://lh3.googleusercontent.com/a-/AOh14Gh4fZk-Gi8UW8cZBGFK-Vu8baN-W1z5oDFV1M3_Bg=s64",
      "userId": "06628799173499765411"
     },
     "user_tz": -420
    },
    "id": "n_RUwnO78Yey",
    "outputId": "55219aad-bbe3-4934-d3ab-1dd0fa70eb59"
   },
   "outputs": [
    {
     "data": {
      "text/plain": [
       "(array([ 37., 119., 133., 145., 174., 113.,  80.,  52.,  29.,  24.]),\n",
       " array([-1.98689099, -1.51653386, -1.04617673, -0.57581959, -0.10546246,\n",
       "         0.36489467,  0.83525181,  1.30560894,  1.77596607,  2.2463232 ,\n",
       "         2.71668034]),\n",
       " <BarContainer object of 10 artists>)"
      ]
     },
     "execution_count": 26,
     "metadata": {},
     "output_type": "execute_result"
    },
    {
     "data": {
      "image/png": "[encoded data removed]",
      "text/plain": [
       "<Figure size 1000x500 with 2 Axes>"
      ]
     },
     "metadata": {},
     "output_type": "display_data"
    }
   ],
   "source": [
    "plt.figure(figsize=(10,5))\n",
    "plt.subplot(121)\n",
    "plt.hist(dfY.values , edgecolor = 'black')\n",
    "plt.subplot(122)\n",
    "plt.hist(dfYStd.values , edgecolor = 'black')"
   ]
  },
  {
   "cell_type": "markdown",
   "id": "d798ff2a",
   "metadata": {
    "id": "d798ff2a"
   },
   "source": [
    "# Формирование тренировочной и проверочной выборок"
   ]
  },
  {
   "cell_type": "code",
   "execution_count": 27,
   "id": "dc7bec34",
   "metadata": {
    "id": "dc7bec34"
   },
   "outputs": [],
   "source": [
    "valid_size = 0.3 # доля тестовой части в выборке\n",
    "rand_seed = 8 # начальное состояние генератора случ. чисел"
   ]
  },
  {
   "cell_type": "markdown",
   "id": "ec86c119",
   "metadata": {
    "id": "ec86c119"
   },
   "source": [
    "##  НЕ Стандартизованные"
   ]
  },
  {
   "cell_type": "code",
   "execution_count": 28,
   "id": "655657b7",
   "metadata": {
    "colab": {
     "base_uri": "https://localhost:8080/",
     "height": 110
    },
    "executionInfo": {
     "elapsed": 338,
     "status": "ok",
     "timestamp": 1636469546833,
     "user": {
      "displayName": "Иван Павлов",
      "photoUrl": "https://lh3.googleusercontent.com/a-/AOh14Gh4fZk-Gi8UW8cZBGFK-Vu8baN-W1z5oDFV1M3_Bg=s64",
      "userId": "06628799173499765411"
     },
     "user_tz": -420
    },
    "id": "655657b7",
    "outputId": "a598e740-7522-4758-e253-7abc4aa8a333",
    "scrolled": true
   },
   "outputs": [
    {
     "data": {
      "text/html": [
       "<div>\n",
       "<style scoped>\n",
       "    .dataframe tbody tr th:only-of-type {\n",
       "        vertical-align: middle;\n",
       "    }\n",
       "\n",
       "    .dataframe tbody tr th {\n",
       "        vertical-align: top;\n",
       "    }\n",
       "\n",
       "    .dataframe thead th {\n",
       "        text-align: right;\n",
       "    }\n",
       "</style>\n",
       "<table border=\"1\" class=\"dataframe\">\n",
       "  <thead>\n",
       "    <tr style=\"text-align: right;\">\n",
       "      <th></th>\n",
       "      <th>Cement</th>\n",
       "      <th>Water</th>\n",
       "      <th>Superplasticizer</th>\n",
       "      <th>Age</th>\n",
       "    </tr>\n",
       "  </thead>\n",
       "  <tbody>\n",
       "    <tr>\n",
       "      <th>585</th>\n",
       "      <td>236.0</td>\n",
       "      <td>192.0</td>\n",
       "      <td>0.0</td>\n",
       "      <td>3.0</td>\n",
       "    </tr>\n",
       "    <tr>\n",
       "      <th>826</th>\n",
       "      <td>299.8</td>\n",
       "      <td>211.5</td>\n",
       "      <td>9.9</td>\n",
       "      <td>28.0</td>\n",
       "    </tr>\n",
       "  </tbody>\n",
       "</table>\n",
       "</div>"
      ],
      "text/plain": [
       "     Cement  Water  Superplasticizer   Age\n",
       "585   236.0  192.0               0.0   3.0\n",
       "826   299.8  211.5               9.9  28.0"
      ]
     },
     "execution_count": 28,
     "metadata": {},
     "output_type": "execute_result"
    }
   ],
   "source": [
    "x_train, x_test, y_train, y_test =  train_test_split(\n",
    "    df[features],    # исходные данные X\n",
    "    df[target],      # исходные данные y\n",
    "    \n",
    "    test_size = valid_size, # доля тестовой части в выборке\n",
    "    random_state=rand_seed, # начальное состояние генератора случ. чисел\n",
    "    shuffle=True            # перемешивание\n",
    ") \n",
    "y_train = y_train['Concrete_compressive_strength']\n",
    "y_test = y_test['Concrete_compressive_strength']\n",
    "\n",
    "x_train[:2]"
   ]
  },
  {
   "cell_type": "code",
   "execution_count": 29,
   "id": "c1ebbb13",
   "metadata": {
    "colab": {
     "base_uri": "https://localhost:8080/"
    },
    "executionInfo": {
     "elapsed": 276,
     "status": "ok",
     "timestamp": 1636469552411,
     "user": {
      "displayName": "Иван Павлов",
      "photoUrl": "https://lh3.googleusercontent.com/a-/AOh14Gh4fZk-Gi8UW8cZBGFK-Vu8baN-W1z5oDFV1M3_Bg=s64",
      "userId": "06628799173499765411"
     },
     "user_tz": -420
    },
    "id": "c1ebbb13",
    "outputId": "8b41fab7-6b76-4b20-c63c-29da792bb471"
   },
   "outputs": [
    {
     "data": {
      "text/plain": [
       "585    13.57\n",
       "826    23.84\n",
       "Name: Concrete_compressive_strength, dtype: float64"
      ]
     },
     "execution_count": 29,
     "metadata": {},
     "output_type": "execute_result"
    }
   ],
   "source": [
    "y_train[:2]"
   ]
  },
  {
   "cell_type": "code",
   "execution_count": 30,
   "id": "97518227",
   "metadata": {
    "colab": {
     "base_uri": "https://localhost:8080/"
    },
    "executionInfo": {
     "elapsed": 273,
     "status": "ok",
     "timestamp": 1636469559562,
     "user": {
      "displayName": "Иван Павлов",
      "photoUrl": "https://lh3.googleusercontent.com/a-/AOh14Gh4fZk-Gi8UW8cZBGFK-Vu8baN-W1z5oDFV1M3_Bg=s64",
      "userId": "06628799173499765411"
     },
     "user_tz": -420
    },
    "id": "97518227",
    "outputId": "8f63d815-3387-4f51-b9b7-29133cb97a69"
   },
   "outputs": [
    {
     "name": "stdout",
     "output_type": "stream",
     "text": [
      "Кол-во элементов: \n",
      "  x_train: 634, y_train 634 \n",
      "  x_test:  272, y_test  272 \n",
      "  total x: 906, total y 906 \n"
     ]
    }
   ],
   "source": [
    "print (\"Кол-во элементов: \\n  x_train: {}, y_train {} \\n  x_test:  {}, y_test  {} \\n  total x: {}, total y {} \".format  (\n",
    "    len(x_train), len(y_train),\n",
    "    len(x_test),  len(x_test), \n",
    "    len(x_train)+len(x_test), len(y_train)+len(x_test),\n",
    "))"
   ]
  },
  {
   "cell_type": "markdown",
   "id": "088a77b9",
   "metadata": {
    "id": "088a77b9"
   },
   "source": [
    "## Стандартизованные"
   ]
  },
  {
   "cell_type": "code",
   "execution_count": 32,
   "id": "a484aa51",
   "metadata": {
    "colab": {
     "base_uri": "https://localhost:8080/",
     "height": 110
    },
    "executionInfo": {
     "elapsed": 365,
     "status": "ok",
     "timestamp": 1636469578666,
     "user": {
      "displayName": "Иван Павлов",
      "photoUrl": "https://lh3.googleusercontent.com/a-/AOh14Gh4fZk-Gi8UW8cZBGFK-Vu8baN-W1z5oDFV1M3_Bg=s64",
      "userId": "06628799173499765411"
     },
     "user_tz": -420
    },
    "id": "a484aa51",
    "outputId": "e01c241c-e63a-42ee-f2df-c11f3fdfdf14"
   },
   "outputs": [
    {
     "data": {
      "text/html": [
       "<div>\n",
       "<style scoped>\n",
       "    .dataframe tbody tr th:only-of-type {\n",
       "        vertical-align: middle;\n",
       "    }\n",
       "\n",
       "    .dataframe tbody tr th {\n",
       "        vertical-align: top;\n",
       "    }\n",
       "\n",
       "    .dataframe thead th {\n",
       "        text-align: right;\n",
       "    }\n",
       "</style>\n",
       "<table border=\"1\" class=\"dataframe\">\n",
       "  <thead>\n",
       "    <tr style=\"text-align: right;\">\n",
       "      <th></th>\n",
       "      <th>Cement</th>\n",
       "      <th>Water</th>\n",
       "      <th>Superplasticizer</th>\n",
       "      <th>Age</th>\n",
       "    </tr>\n",
       "  </thead>\n",
       "  <tbody>\n",
       "    <tr>\n",
       "      <th>585</th>\n",
       "      <td>-0.384980</td>\n",
       "      <td>0.610325</td>\n",
       "      <td>-1.165541</td>\n",
       "      <td>-1.026431</td>\n",
       "    </tr>\n",
       "    <tr>\n",
       "      <th>826</th>\n",
       "      <td>0.255528</td>\n",
       "      <td>1.629678</td>\n",
       "      <td>0.651318</td>\n",
       "      <td>-0.142955</td>\n",
       "    </tr>\n",
       "  </tbody>\n",
       "</table>\n",
       "</div>"
      ],
      "text/plain": [
       "       Cement     Water  Superplasticizer       Age\n",
       "585 -0.384980  0.610325         -1.165541 -1.026431\n",
       "826  0.255528  1.629678          0.651318 -0.142955"
      ]
     },
     "execution_count": 32,
     "metadata": {},
     "output_type": "execute_result"
    }
   ],
   "source": [
    "xStd_train, xStd_test, yStd_train, yStd_test =  train_test_split(\n",
    "    dfXStd,    # исходные данные X\n",
    "    dfYStd,      # исходные данные y\n",
    "    \n",
    "    test_size = valid_size, # доля тестовой части в выборке\n",
    "    random_state=rand_seed, # начальное состояние генератора случ. чисел\n",
    "    shuffle=True            # перемешивание\n",
    ") \n",
    "\n",
    "yStd_train = yStd_train['Concrete_compressive_strength']\n",
    "yStd_test = yStd_test['Concrete_compressive_strength']\n",
    "\n",
    "\n",
    "xStd_train[:2]"
   ]
  },
  {
   "cell_type": "code",
   "execution_count": 33,
   "id": "09621a4c",
   "metadata": {
    "colab": {
     "base_uri": "https://localhost:8080/"
    },
    "executionInfo": {
     "elapsed": 294,
     "status": "ok",
     "timestamp": 1636469581763,
     "user": {
      "displayName": "Иван Павлов",
      "photoUrl": "https://lh3.googleusercontent.com/a-/AOh14Gh4fZk-Gi8UW8cZBGFK-Vu8baN-W1z5oDFV1M3_Bg=s64",
      "userId": "06628799173499765411"
     },
     "user_tz": -420
    },
    "id": "09621a4c",
    "outputId": "f4a881c7-8c2b-4ff0-f810-457ec8b26b3d",
    "scrolled": true
   },
   "outputs": [
    {
     "data": {
      "text/plain": [
       "585   -1.295533\n",
       "826   -0.663839\n",
       "Name: Concrete_compressive_strength, dtype: float64"
      ]
     },
     "execution_count": 33,
     "metadata": {},
     "output_type": "execute_result"
    }
   ],
   "source": [
    "yStd_train[:2]"
   ]
  },
  {
   "cell_type": "markdown",
   "id": "9ca40dc3",
   "metadata": {
    "id": "9ca40dc3"
   },
   "source": [
    "# Проверка влияния стандартизации"
   ]
  },
  {
   "cell_type": "markdown",
   "id": "7bc8126a",
   "metadata": {
    "id": "7bc8126a"
   },
   "source": [
    "Для исследования влияния процесса стандартизации используем новый тип модели - __linear_model.SGDRegressor__. Особенности внутреннего устройства рассматривать пока не будем.\n",
    "\n",
    "В библиотеке sklearn большинство методов обладают единым интерфейсом взаимодействия и содержат методы\n",
    "```\n",
    "- model.fit(x_train, y_train) - обучение модели, вычисление коэфф. для входных признаков\n",
    "\n",
    "- y_pred = model.predict(x_test) - прогноз модели, вычисление откликов\n",
    "```"
   ]
  },
  {
   "cell_type": "markdown",
   "id": "25f721c1",
   "metadata": {
    "id": "25f721c1"
   },
   "source": [
    "## Модель SGDRegressor. НЕ стандартизованные (rand_seed = 8)"
   ]
  },
  {
   "cell_type": "code",
   "execution_count": 34,
   "id": "4aebaea0",
   "metadata": {
    "colab": {
     "base_uri": "https://localhost:8080/"
    },
    "executionInfo": {
     "elapsed": 22926,
     "status": "ok",
     "timestamp": 1636469649670,
     "user": {
      "displayName": "Иван Павлов",
      "photoUrl": "https://lh3.googleusercontent.com/a-/AOh14Gh4fZk-Gi8UW8cZBGFK-Vu8baN-W1z5oDFV1M3_Bg=s64",
      "userId": "06628799173499765411"
     },
     "user_tz": -420
    },
    "id": "4aebaea0",
    "outputId": "3dad268a-98d7-4229-f9f4-12c1113603f2"
   },
   "outputs": [
    {
     "data": {
      "text/plain": [
       "array([1.04566179e+14, 1.26947473e+14, 1.34279215e+14, 1.28210214e+14,\n",
       "       1.35354215e+14, 1.16726934e+14, 1.21898745e+14, 1.38462782e+14,\n",
       "       1.14890545e+14, 1.25682753e+14, 1.01074057e+14, 9.03643174e+13,\n",
       "       1.23512030e+14, 1.16124570e+14, 1.48563084e+14, 1.20528204e+14,\n",
       "       1.03932858e+14, 1.63313213e+14, 1.49642838e+14, 1.26719834e+14,\n",
       "       1.29606333e+14, 8.84257964e+13, 1.17982105e+14, 1.02432450e+14,\n",
       "       1.04656568e+14, 1.33788263e+14, 8.46411371e+13, 1.09531709e+14,\n",
       "       1.15603690e+14, 9.65322764e+13, 1.50195119e+14, 1.21598647e+14,\n",
       "       9.92497852e+13, 1.26968226e+14, 1.48176537e+14, 1.15890944e+14,\n",
       "       1.15494023e+14, 1.07881355e+14, 1.21222102e+14, 8.89344690e+13,\n",
       "       8.93304242e+13, 1.07118454e+14, 1.06372587e+14, 1.24558822e+14,\n",
       "       1.10275932e+14, 9.00496097e+13, 9.76856282e+13, 1.16726934e+14,\n",
       "       8.67332719e+13, 1.69089521e+14, 1.30929605e+14, 1.26609161e+14,\n",
       "       1.05295384e+14, 1.14910924e+14, 1.01894566e+14, 1.39708641e+14,\n",
       "       1.25670456e+14, 1.01398254e+14, 1.40229010e+14, 1.14961190e+14,\n",
       "       9.37625723e+13, 1.47139703e+14, 1.27401326e+14, 1.15570536e+14,\n",
       "       1.03981385e+14, 1.12402921e+14, 9.52112807e+13, 1.04884969e+14,\n",
       "       1.45789598e+14, 1.03918551e+14, 1.22312727e+14, 1.08850722e+14,\n",
       "       1.04760368e+14, 9.52112807e+13, 1.01494767e+14, 9.86131076e+13,\n",
       "       1.02543552e+14, 8.64102787e+13, 9.12939895e+13, 9.16310998e+13,\n",
       "       9.98578178e+13, 1.15098779e+14, 1.16631921e+14, 1.17932497e+14,\n",
       "       1.07893640e+14, 8.97988402e+13, 1.26352668e+14, 1.00875062e+14,\n",
       "       9.54990246e+13, 9.23643076e+13, 8.75332607e+13, 1.07169508e+14,\n",
       "       1.16531005e+14, 1.27973993e+14, 1.08783273e+14, 1.10629846e+14,\n",
       "       8.60381465e+13, 1.12509466e+14, 1.14092482e+14, 9.96666652e+13,\n",
       "       9.51073242e+13, 1.28496230e+14, 8.62016741e+13, 1.04080819e+14,\n",
       "       9.27265748e+13, 1.28840350e+14, 8.81562826e+13, 9.68416864e+13,\n",
       "       1.35002522e+14, 1.15698458e+14, 8.77066284e+13, 9.31680269e+13,\n",
       "       1.13150587e+14, 1.19659367e+14, 9.93018920e+13, 8.82552492e+13,\n",
       "       1.07766500e+14, 1.28595727e+14, 9.93721405e+13, 1.56117625e+14,\n",
       "       1.01780176e+14, 1.02273047e+14, 8.76606317e+13, 1.39038681e+14,\n",
       "       1.15834425e+14, 1.19039938e+14, 1.26968226e+14, 1.54811642e+14,\n",
       "       9.14949654e+13, 1.33478369e+14, 1.35309720e+14, 1.28741615e+14,\n",
       "       8.79088683e+13, 9.69595443e+13, 1.22164036e+14, 1.02648884e+14,\n",
       "       1.39595732e+14, 1.03343374e+14, 9.93773451e+13, 1.00043503e+14,\n",
       "       1.25877173e+14, 1.33576534e+14, 1.12983406e+14, 1.22128670e+14,\n",
       "       9.82812113e+13, 1.03133505e+14, 1.28481921e+14, 9.65694151e+13,\n",
       "       1.04614188e+14, 1.24678673e+14, 9.99091049e+13, 1.27285247e+14,\n",
       "       9.25433267e+13, 1.04780561e+14, 1.07131711e+14, 1.12925479e+14,\n",
       "       9.03376275e+13, 1.29830824e+14, 1.06876755e+14, 1.02814359e+14,\n",
       "       1.14366790e+14, 1.18881570e+14, 9.88236411e+13, 8.21668228e+13,\n",
       "       1.16063136e+14, 1.31081314e+14, 1.51908272e+14, 8.91597761e+13,\n",
       "       1.09217286e+14, 8.89786769e+13, 9.06539262e+13, 1.25342131e+14,\n",
       "       8.96592609e+13, 9.46743724e+13, 9.38243729e+13, 1.28085350e+14,\n",
       "       1.22758268e+14, 1.30950790e+14, 8.56362173e+13, 1.04062542e+14,\n",
       "       1.06955126e+14, 1.31059964e+14, 1.03861503e+14, 1.05444091e+14,\n",
       "       8.71418255e+13, 1.17544124e+14, 1.15630340e+14, 1.13949175e+14,\n",
       "       1.10494755e+14, 1.16076561e+14, 8.14030867e+13, 1.20528204e+14,\n",
       "       1.14643887e+14, 1.40282535e+14, 8.71188106e+13, 8.98233541e+13,\n",
       "       1.24732898e+14, 1.04619766e+14, 9.18591755e+13, 8.70703822e+13,\n",
       "       9.28889061e+13, 1.07837001e+14, 1.49642838e+14, 1.20506542e+14,\n",
       "       8.89716338e+13, 9.68953861e+13, 1.33514775e+14, 1.21893037e+14,\n",
       "       1.22407508e+14, 8.93831845e+13, 1.03141755e+14, 9.87705083e+13,\n",
       "       9.43143597e+13, 1.09410811e+14, 1.21091723e+14, 9.13815302e+13,\n",
       "       9.59688283e+13, 1.21230178e+14, 1.05334755e+14, 1.30301041e+14,\n",
       "       1.41207129e+14, 1.28108819e+14, 1.27188728e+14, 1.01844491e+14,\n",
       "       1.39202531e+14, 1.23181435e+14, 1.17035000e+14, 1.51802830e+14,\n",
       "       1.00107777e+14, 1.17711305e+14, 1.10965926e+14, 1.15375374e+14,\n",
       "       1.00489059e+14, 9.60653414e+13, 9.36944046e+13, 1.45082120e+14,\n",
       "       9.51701187e+13, 1.12799789e+14, 1.30110286e+14, 1.03201213e+14,\n",
       "       1.19796216e+14, 1.38197874e+14, 8.85300284e+13, 1.24420019e+14,\n",
       "       9.69340495e+13, 1.22542823e+14, 9.85034323e+13, 1.09834573e+14,\n",
       "       9.01596041e+13, 1.16502301e+14, 1.15440916e+14, 9.51069110e+13,\n",
       "       1.16675372e+14, 1.39595732e+14, 1.06797270e+14, 8.22521898e+13,\n",
       "       9.79206612e+13, 1.19303473e+14, 1.53136212e+14, 1.50860678e+14,\n",
       "       8.99780053e+13, 1.20863536e+14, 8.58645637e+13, 1.10873517e+14,\n",
       "       8.50623507e+13, 8.85208846e+13, 1.28801819e+14, 1.11845343e+14,\n",
       "       1.16941969e+14, 9.38869043e+13, 1.26719834e+14, 9.83255656e+13])"
      ]
     },
     "execution_count": 34,
     "metadata": {},
     "output_type": "execute_result"
    }
   ],
   "source": [
    "# 1. Создать объект класса с моделью стохастического градиентного спуска\n",
    "rand_seed = 8\n",
    "sgd_reg_nonStd = linear_model.SGDRegressor(\n",
    "    max_iter=10000,\n",
    "    tol=1e-3,\n",
    "    random_state=8,\n",
    ")\n",
    "# 2. Обучить модель (подобрать/подогнать параметры модели)  на НЕ СТАНДАРТИЗИРОВАНОМ проверочном наборе\n",
    "sgd_reg_nonStd.fit(  x_train,  y_train)\n",
    "# 3. Получить вычисленные(predicted) зн. на НЕ СТАНДАРТИЗИРОВАНОМ проверочном наборе\n",
    "y_pred = sgd_reg_nonStd.predict ( x_test)\n",
    "y_pred"
   ]
  },
  {
   "cell_type": "code",
   "execution_count": 35,
   "id": "84d714fa",
   "metadata": {
    "colab": {
     "base_uri": "https://localhost:8080/",
     "height": 404
    },
    "executionInfo": {
     "elapsed": 1280,
     "status": "ok",
     "timestamp": 1636469664096,
     "user": {
      "displayName": "Иван Павлов",
      "photoUrl": "https://lh3.googleusercontent.com/a-/AOh14Gh4fZk-Gi8UW8cZBGFK-Vu8baN-W1z5oDFV1M3_Bg=s64",
      "userId": "06628799173499765411"
     },
     "user_tz": -420
    },
    "id": "84d714fa",
    "outputId": "211a265b-1c1c-40fc-87ad-96e145e0e563"
   },
   "outputs": [
    {
     "data": {
      "image/png": "[encoded data removed]",
      "text/plain": [
       "<Figure size 1200x600 with 2 Axes>"
      ]
     },
     "metadata": {},
     "output_type": "display_data"
    }
   ],
   "source": [
    "PLOT34(y_test, y_pred)"
   ]
  },
  {
   "cell_type": "code",
   "execution_count": 36,
   "id": "a4ff1c3d",
   "metadata": {
    "colab": {
     "base_uri": "https://localhost:8080/"
    },
    "executionInfo": {
     "elapsed": 348,
     "status": "ok",
     "timestamp": 1636469680093,
     "user": {
      "displayName": "Иван Павлов",
      "photoUrl": "https://lh3.googleusercontent.com/a-/AOh14Gh4fZk-Gi8UW8cZBGFK-Vu8baN-W1z5oDFV1M3_Bg=s64",
      "userId": "06628799173499765411"
     },
     "user_tz": -420
    },
    "id": "a4ff1c3d",
    "outputId": "4f692d8d-42f3-4e10-8792-81b13d908cd2",
    "scrolled": true
   },
   "outputs": [
    {
     "name": "stdout",
     "output_type": "stream",
     "text": [
      "MAE : 111,893,410,552,350.594 (средняя абсолютная ошибка)\n",
      "MSE : 12,841,821,867,164,034,474,780,393,472.000000 (среднеквадратичная ошибка)\n",
      "RMSE: 113,321,762,548,788.640625 (кв. корень из среднеквадратичной ошибки)\n",
      "R2  : -44,776,162,826,824,839,497,515,008.000 (коэфф. детерминации)\n"
     ]
    }
   ],
   "source": [
    "GET_METRICS_SINGLE(y_test, y_pred)"
   ]
  },
  {
   "cell_type": "markdown",
   "id": "f1efb045-8b82-4a40-84cd-9d27eefcb240",
   "metadata": {},
   "source": [
    "Построим гистограмму остатков (разностей между вычисленными и проверочными)"
   ]
  },
  {
   "cell_type": "code",
   "execution_count": 37,
   "id": "448102b0-6cb2-4e00-a508-1b2fa8a21977",
   "metadata": {},
   "outputs": [
    {
     "data": {
      "text/plain": [
       "(array([35., 41., 49., 42., 39., 36., 14.,  9.,  5.,  2.]),\n",
       " array([8.14030867e+13, 9.01717301e+13, 9.89403734e+13, 1.07709017e+14,\n",
       "        1.16477660e+14, 1.25246304e+14, 1.34014947e+14, 1.42783590e+14,\n",
       "        1.51552234e+14, 1.60320877e+14, 1.69089521e+14]),\n",
       " <BarContainer object of 10 artists>)"
      ]
     },
     "execution_count": 37,
     "metadata": {},
     "output_type": "execute_result"
    },
    {
     "data": {
      "image/png": "[encoded data removed]",
      "text/plain": [
       "<Figure size 1000x500 with 1 Axes>"
      ]
     },
     "metadata": {},
     "output_type": "display_data"
    }
   ],
   "source": [
    "plt.figure(figsize=(10,5))\n",
    "plt.subplot(121)\n",
    "plt.hist(y_pred - y_test , edgecolor = 'black')"
   ]
  },
  {
   "cell_type": "markdown",
   "id": "4c1616fb-52c8-4890-b030-f4f869beedc2",
   "metadata": {},
   "source": [
    "## Модель SGDRegressor. НЕ стандартизованные (rand_seed = 4)"
   ]
  },
  {
   "cell_type": "code",
   "execution_count": 55,
   "id": "1a565798-a61f-4532-9b70-bee2d8055f56",
   "metadata": {},
   "outputs": [
    {
     "data": {
      "text/plain": [
       "array([-5.26680537e+13, -6.03239487e+13, -7.40692697e+13, -6.20806248e+13,\n",
       "       -7.57322330e+13, -5.79060270e+13, -5.83582554e+13, -7.92104823e+13,\n",
       "       -3.98254295e+13, -6.12171087e+13, -3.72624024e+13, -3.53941863e+13,\n",
       "       -6.02574171e+13, -5.30092324e+13, -6.69098446e+13, -6.30445814e+13,\n",
       "       -4.34439321e+13, -8.47932311e+13, -8.46117190e+13, -7.18304750e+13,\n",
       "       -5.22288364e+13, -4.00498800e+13, -6.77764119e+13, -4.79137990e+13,\n",
       "       -5.31734952e+13, -7.21835297e+13, -3.81139525e+13, -5.15237468e+13,\n",
       "       -6.23927523e+13, -3.62976939e+13, -9.03670060e+13, -6.39885220e+13,\n",
       "       -3.79018559e+13, -6.99283830e+13, -8.23721612e+13, -6.91228130e+13,\n",
       "       -4.79050041e+13, -3.22812418e+13, -6.03400875e+13, -3.95759058e+13,\n",
       "       -4.22699574e+13, -5.25392359e+13, -5.14821238e+13, -5.82596873e+13,\n",
       "       -3.20812368e+13, -3.50774098e+13, -4.53492557e+13, -5.79060270e+13,\n",
       "       -3.44387547e+13, -8.29572580e+13, -6.79603412e+13, -6.06598349e+13,\n",
       "       -4.91577713e+13, -5.41690260e+13, -4.61734806e+13, -7.19400318e+13,\n",
       "       -5.89463789e+13, -4.42930851e+13, -8.29523035e+13, -6.53727826e+13,\n",
       "       -3.45368328e+13, -8.05456184e+13, -6.46088286e+13, -5.25078944e+13,\n",
       "       -6.10221506e+13, -5.44761036e+13, -3.66032553e+13, -5.05228053e+13,\n",
       "       -6.95552853e+13, -3.96288066e+13, -6.80375233e+13, -4.97747891e+13,\n",
       "       -3.08692336e+13, -3.66032553e+13, -4.34927198e+13, -3.83233900e+13,\n",
       "       -4.55557809e+13, -3.95795698e+13, -3.26501948e+13, -3.50690359e+13,\n",
       "       -4.67973030e+13, -6.51738193e+13, -5.75275524e+13, -6.21223181e+13,\n",
       "       -5.08104257e+13, -3.33125671e+13, -7.25994760e+13, -4.98143362e+13,\n",
       "       -3.66710190e+13, -3.89300170e+13, -3.23063672e+13, -5.03508575e+13,\n",
       "       -6.34996990e+13, -6.29473512e+13, -4.83847730e+13, -3.35149436e+13,\n",
       "       -3.20637876e+13, -5.96946592e+13, -6.57134607e+13, -3.93088364e+13,\n",
       "       -4.48886228e+13, -6.83029569e+13, -3.71982738e+13, -5.20966678e+13,\n",
       "       -4.64553491e+13, -5.02517051e+13, -4.38228208e+13, -3.63279442e+13,\n",
       "       -6.16278955e+13, -5.10760774e+13, -3.57314174e+13, -4.32324409e+13,\n",
       "       -5.91303870e+13, -6.72454901e+13, -3.82803214e+13, -3.68211053e+13,\n",
       "       -5.61235457e+13, -4.89259067e+13, -4.52324920e+13, -8.91539406e+13,\n",
       "       -4.83715464e+13, -4.80764825e+13, -3.43414058e+13, -8.18149345e+13,\n",
       "       -5.69063380e+13, -5.26733654e+13, -6.99283830e+13, -8.84700377e+13,\n",
       "       -3.71611145e+13, -5.55129785e+13, -8.08948537e+13, -7.16626113e+13,\n",
       "       -3.39630036e+13, -3.73205936e+13, -6.07717777e+13, -4.80308683e+13,\n",
       "       -7.22878827e+13, -2.95992121e+13, -5.25145914e+13, -4.88506637e+13,\n",
       "       -5.84939116e+13, -7.49186377e+13, -5.89876127e+13, -6.25213039e+13,\n",
       "       -3.83611628e+13, -5.01584266e+13, -4.76293584e+13, -5.20694854e+13,\n",
       "       -5.75232168e+13, -6.61545174e+13, -5.29936883e+13, -4.85074304e+13,\n",
       "       -3.67496198e+13, -5.12877222e+13, -3.10289093e+13, -5.44220651e+13,\n",
       "       -4.73922138e+13, -7.57885939e+13, -4.93860951e+13, -5.14705181e+13,\n",
       "       -6.30078960e+13, -5.83412473e+13, -4.89333076e+13, -3.09079614e+13,\n",
       "       -3.91545201e+13, -6.99273545e+13, -6.30958883e+13, -4.19382825e+13,\n",
       "       -5.13849354e+13, -4.40974728e+13, -4.25181319e+13, -6.21134107e+13,\n",
       "       -3.43051622e+13, -3.79244586e+13, -4.80868727e+13, -7.68018671e+13,\n",
       "       -4.21072509e+13, -6.99455948e+13, -3.22031676e+13, -3.39176748e+13,\n",
       "       -5.17311890e+13, -6.80792087e+13, -3.88054922e+13, -5.28806456e+13,\n",
       "       -3.47623099e+13, -5.71990529e+13, -5.49678615e+13, -5.28296956e+13,\n",
       "       -5.97237539e+13, -4.81540693e+13, -2.99583896e+13, -6.30445814e+13,\n",
       "       -4.56444422e+13, -7.60795165e+13, -3.48094482e+13, -4.26318852e+13,\n",
       "       -6.33383479e+13, -5.16596693e+13, -3.54976286e+13, -3.68575958e+13,\n",
       "       -4.29092459e+13, -3.46137041e+13, -8.46117190e+13, -6.54124564e+13,\n",
       "       -4.24883847e+13, -3.60925648e+13, -7.46726292e+13, -6.53320977e+13,\n",
       "       -7.17169429e+13, -3.35744506e+13, -4.77358044e+13, -5.24826412e+13,\n",
       "       -4.52676297e+13, -5.88929127e+13, -6.17111391e+13, -3.94909847e+13,\n",
       "       -4.64223230e+13, -5.81191246e+13, -4.35728883e+13, -6.30721838e+13,\n",
       "       -6.06277753e+13, -6.20942224e+13, -6.04670660e+13, -5.17151785e+13,\n",
       "       -5.22450413e+13, -6.76968452e+13, -3.81608798e+13, -8.93072155e+13,\n",
       "       -4.19703558e+13, -5.73418272e+13, -4.81380588e+13, -5.55322152e+13,\n",
       "       -3.95834884e+13, -4.56219577e+13, -4.13257587e+13, -8.64002789e+13,\n",
       "       -3.54532817e+13, -5.61263938e+13, -6.90424950e+13, -4.95851280e+13,\n",
       "       -6.08786581e+13, -5.80578378e+13, -3.81075083e+13, -4.22525678e+13,\n",
       "       -4.52812796e+13, -6.59878520e+13, -4.55731701e+13, -5.74102704e+13,\n",
       "       -3.51245761e+13, -5.75504417e+13, -5.25307837e+13, -3.55143579e+13,\n",
       "       -5.36397598e+13, -7.22878827e+13, -4.32378293e+13, -3.90508172e+13,\n",
       "       -3.50655854e+13, -6.54675858e+13, -9.19399748e+13, -8.08339792e+13,\n",
       "       -3.50621385e+13, -5.99190631e+13, -3.47794327e+13, -5.07514076e+13,\n",
       "       -3.16785786e+13, -3.39664071e+13, -6.49370343e+13, -5.93127903e+13,\n",
       "       -5.79970195e+13, -4.38463704e+13, -7.18304750e+13, -3.60287005e+13])"
      ]
     },
     "execution_count": 55,
     "metadata": {},
     "output_type": "execute_result"
    }
   ],
   "source": [
    "# 1. Создать объект класса с моделью стохастического градиентного спуска\n",
    "rand_seed = 4\n",
    "sgd_reg_nonStd = linear_model.SGDRegressor(\n",
    "    max_iter=10000,\n",
    "    tol=1e-3,\n",
    "    random_state=4,\n",
    ")\n",
    "# 2. Обучить модель (подобрать/подогнать параметры модели)  на НЕ СТАНДАРТИЗИРОВАНОМ проверочном наборе\n",
    "sgd_reg_nonStd.fit(  x_train,  y_train)\n",
    "# 3. Получить вычисленные(predicted) зн. на НЕ СТАНДАРТИЗИРОВАНОМ проверочном наборе\n",
    "y_pred = sgd_reg_nonStd.predict ( x_test)\n",
    "y_pred"
   ]
  },
  {
   "cell_type": "code",
   "execution_count": 56,
   "id": "90ca0d72-e846-4b09-a22e-ac2b37b8e5c1",
   "metadata": {},
   "outputs": [
    {
     "data": {
      "image/png": "[encoded data removed]",
      "text/plain": [
       "<Figure size 1200x600 with 2 Axes>"
      ]
     },
     "metadata": {},
     "output_type": "display_data"
    }
   ],
   "source": [
    "PLOT34(y_test, y_pred)"
   ]
  },
  {
   "cell_type": "code",
   "execution_count": 57,
   "id": "a1ccb59a-9389-4ee0-ba0e-6986c4c7c350",
   "metadata": {},
   "outputs": [
    {
     "name": "stdout",
     "output_type": "stream",
     "text": [
      "MAE : 52,962,122,488,638.211 (средняя абсолютная ошибка)\n",
      "MSE : 3,013,952,481,833,456,024,783,159,296.000000 (среднеквадратичная ошибка)\n",
      "RMSE: 54,899,476,152,632.421875 (кв. корень из среднеквадратичной ошибки)\n",
      "R2  : -10,508,884,835,410,858,580,377,600.000 (коэфф. детерминации)\n"
     ]
    }
   ],
   "source": [
    "GET_METRICS_SINGLE(y_test, y_pred)"
   ]
  },
  {
   "cell_type": "markdown",
   "id": "b51e03d7-8cd4-45a0-8653-adcdefbd02ad",
   "metadata": {},
   "source": [
    "Построим гистограмму остатков (разностей между вычисленными и проверочными)"
   ]
  },
  {
   "cell_type": "code",
   "execution_count": 41,
   "id": "82eaef75-0645-42e6-8bff-20f927b85576",
   "metadata": {},
   "outputs": [
    {
     "data": {
      "text/plain": [
       "(array([ 7., 11., 15., 29., 41., 46., 41., 45., 29.,  8.]),\n",
       " array([-1.09456069e+14, -1.01165266e+14, -9.28744629e+13, -8.45836598e+13,\n",
       "        -7.62928567e+13, -6.80020536e+13, -5.97112504e+13, -5.14204473e+13,\n",
       "        -4.31296442e+13, -3.48388411e+13, -2.65480379e+13]),\n",
       " <BarContainer object of 10 artists>)"
      ]
     },
     "execution_count": 41,
     "metadata": {},
     "output_type": "execute_result"
    },
    {
     "data": {
      "image/png": "[encoded data removed]",
      "text/plain": [
       "<Figure size 1000x500 with 1 Axes>"
      ]
     },
     "metadata": {},
     "output_type": "display_data"
    }
   ],
   "source": [
    "plt.figure(figsize=(10,5))\n",
    "plt.subplot(121)\n",
    "plt.hist(y_pred - y_test , edgecolor = 'black')"
   ]
  },
  {
   "cell_type": "markdown",
   "id": "d7275d0c",
   "metadata": {
    "id": "d7275d0c"
   },
   "source": [
    "## Модель SGDRegressor. Cтандартизованные (rand_seed = 8)"
   ]
  },
  {
   "cell_type": "code",
   "execution_count": 42,
   "id": "d7523b34",
   "metadata": {
    "colab": {
     "base_uri": "https://localhost:8080/"
    },
    "executionInfo": {
     "elapsed": 320,
     "status": "ok",
     "timestamp": 1636469686896,
     "user": {
      "displayName": "Иван Павлов",
      "photoUrl": "https://lh3.googleusercontent.com/a-/AOh14Gh4fZk-Gi8UW8cZBGFK-Vu8baN-W1z5oDFV1M3_Bg=s64",
      "userId": "06628799173499765411"
     },
     "user_tz": -420
    },
    "id": "d7523b34",
    "outputId": "a186a28b-71ad-4bd7-b593-d318f649cd1a"
   },
   "outputs": [
    {
     "data": {
      "text/plain": [
       "array([-0.70010221, -0.19044581, -0.60635881, -0.11333147,  1.02854182,\n",
       "        0.17521936, -0.14112195,  1.06734497,  1.49122339,  0.2367003 ,\n",
       "       -0.16446028, -0.82751691, -0.42641034,  1.13315759,  1.10877497,\n",
       "        0.65476674, -0.94934057,  1.02573475,  0.43028611, -0.32019061,\n",
       "        1.30057824,  0.1951516 ,  0.48064773, -0.70748082, -0.88544199,\n",
       "        0.10525778, -1.00657838, -0.52846919, -0.60811367, -0.73032151,\n",
       "        0.03684257,  1.20478223, -0.52037918,  1.24198395, -0.40094639,\n",
       "        0.50671171,  0.19381746,  0.89312152, -0.31763582, -0.60651066,\n",
       "       -0.23995561,  0.13306553, -0.52509309,  0.0476467 , -0.0755121 ,\n",
       "       -0.32658676, -0.63469402,  0.17521936, -1.64140113,  1.52601443,\n",
       "        0.31507279,  1.13404044,  0.10690528, -0.11569602, -0.21799453,\n",
       "       -0.17843586, -0.01289525, -0.33948066,  0.55118033,  0.65072313,\n",
       "       -0.28766783,  0.38998279,  1.41390836, -0.15915061,  1.10695108,\n",
       "       -0.41141942, -0.57199053,  0.28783886,  0.30083784, -0.64678759,\n",
       "       -0.57397668, -0.64320184,  0.80981816, -0.57199053, -0.83678164,\n",
       "       -0.70440667, -0.71236999, -1.05784282, -1.28194586, -1.09635455,\n",
       "        0.09751506,  0.22684379,  0.27172226,  0.53305174, -0.51471901,\n",
       "       -0.2330115 , -0.37545966, -0.99571321, -0.56681147, -0.19667278,\n",
       "       -0.52477385, -0.71002568, -0.55758658,  1.40521009, -0.47105366,\n",
       "        0.5886841 ,  0.01629706, -0.69415157,  0.58225546,  0.32757875,\n",
       "       -1.14749737, -0.45486923, -1.5242775 , -1.08450264,  0.09201374,\n",
       "        0.60511717, -0.5796179 , -0.66738719,  2.01300049,  0.68883584,\n",
       "       -0.37829377, -1.19853204, -0.76948146,  0.23830664, -0.55314262,\n",
       "       -1.64695537, -0.43914015,  1.43190645, -1.30879585, -0.1919682 ,\n",
       "       -1.29103252, -1.23232668, -0.23801532,  1.22678595, -0.3626065 ,\n",
       "        0.67876206,  1.24198395,  0.52020786, -0.31704237,  1.45624661,\n",
       "        0.75997442, -0.18717356, -0.65142808, -0.96129543, -0.01460577,\n",
       "       -1.22256485,  1.52036003,  0.85412431, -0.11090427, -0.89576692,\n",
       "        0.85715448,  0.97835944, -0.773881  ,  0.00839585,  0.55178999,\n",
       "       -0.82591262,  0.4035979 ,  0.07544223,  0.22596094, -0.46313062,\n",
       "        0.51635459,  1.41842972, -0.6018684 , -0.89831178,  0.91537572,\n",
       "       -0.43915851, -0.09627236,  0.25977117, -0.58758028, -0.94467854,\n",
       "       -0.05004217, -0.3792294 , -0.97747388, -0.03091475,  0.25350424,\n",
       "        0.03863162,  0.64359705, -0.16712056, -0.52598671, -0.37703653,\n",
       "       -0.26591388,  0.14069936, -0.14448299, -0.56218753, -0.16911765,\n",
       "        0.61316338,  0.97166674,  0.0459536 , -0.07791646,  1.42756969,\n",
       "       -0.51181611,  0.30057943, -0.70634318, -0.75246075, -0.78595849,\n",
       "       -0.41442572,  0.04219349, -0.30762331, -0.20571054,  0.20709444,\n",
       "        0.04798999,  0.65476674,  0.08128403,  0.82562959, -0.79339109,\n",
       "       -0.26897818, -0.22524547, -1.00934605, -0.5825008 , -1.45580982,\n",
       "       -1.34829586,  1.30493438,  0.43028611, -0.57590166, -0.74512136,\n",
       "        0.31403887,  1.04108633,  0.92593639,  0.88252867, -0.4339329 ,\n",
       "       -1.16385901, -0.20402329, -1.08077348,  1.53487403, -0.1981313 ,\n",
       "       -1.56468396, -0.76740361,  0.11612527,  0.738079  ,  1.07703562,\n",
       "        0.91519518, -0.12624018, -0.20168074,  0.04820201,  0.30923195,\n",
       "       -0.50550901,  0.89293743,  0.1185381 ,  0.788355  , -0.41002618,\n",
       "        0.76711257, -0.45613175,  0.53016012, -1.26470459, -0.02627703,\n",
       "        0.07083084, -0.76445507,  0.3260818 ,  0.00846788, -1.25363642,\n",
       "        0.37788078,  0.83600344, -0.6979186 ,  0.76136443, -1.19623692,\n",
       "        0.84010301, -1.37726352, -0.76454423, -0.53161168,  0.2546573 ,\n",
       "       -0.17621557, -0.78130902, -0.01552908,  1.52036003, -0.72293671,\n",
       "       -1.19486448, -0.15064617, -0.65316842,  0.40869538,  0.06279424,\n",
       "       -0.52870717,  0.1889671 , -1.7098688 , -0.3245378 , -0.4668629 ,\n",
       "       -0.61655448,  0.40637345, -0.69626173,  0.17319476, -1.17961402,\n",
       "       -0.32019061,  0.13997713])"
      ]
     },
     "execution_count": 42,
     "metadata": {},
     "output_type": "execute_result"
    }
   ],
   "source": [
    "# 1. Создать объект класса с моделью стохастического градиентного спуска\n",
    "rand_seed = 8\n",
    "sgd_reg_std =   linear_model.SGDRegressor(\n",
    "    max_iter=10000,\n",
    "    tol=1e-3,\n",
    "    random_state=8,\n",
    ")\n",
    "# 2. Обучить модель (подобрать/подогнать параметры модели)  на СТАНДАРТИЗИРОВАНОМ проверочном наборе\n",
    "sgd_reg_std.fit(  xStd_train,  yStd_train)\n",
    "# 3. Получить вычисленные(predicted) зн. на СТАНДАРТИЗИРОВАНОМ проверочном наборе\n",
    "yStd_pred = sgd_reg_std.predict ( xStd_test)\n",
    "yStd_pred"
   ]
  },
  {
   "cell_type": "code",
   "execution_count": 43,
   "id": "083a381c",
   "metadata": {
    "colab": {
     "base_uri": "https://localhost:8080/",
     "height": 404
    },
    "executionInfo": {
     "elapsed": 1201,
     "status": "ok",
     "timestamp": 1636469697267,
     "user": {
      "displayName": "Иван Павлов",
      "photoUrl": "https://lh3.googleusercontent.com/a-/AOh14Gh4fZk-Gi8UW8cZBGFK-Vu8baN-W1z5oDFV1M3_Bg=s64",
      "userId": "06628799173499765411"
     },
     "user_tz": -420
    },
    "id": "083a381c",
    "outputId": "ae5de98d-e291-4e30-9a14-97dea9fbb674"
   },
   "outputs": [
    {
     "data": {
      "image/png": "[encoded data removed]",
      "text/plain": [
       "<Figure size 1200x600 with 2 Axes>"
      ]
     },
     "metadata": {},
     "output_type": "display_data"
    }
   ],
   "source": [
    "PLOT34(yStd_test, yStd_pred)"
   ]
  },
  {
   "cell_type": "code",
   "execution_count": 44,
   "id": "4bbe003d",
   "metadata": {
    "colab": {
     "base_uri": "https://localhost:8080/"
    },
    "executionInfo": {
     "elapsed": 342,
     "status": "ok",
     "timestamp": 1636469703293,
     "user": {
      "displayName": "Иван Павлов",
      "photoUrl": "https://lh3.googleusercontent.com/a-/AOh14Gh4fZk-Gi8UW8cZBGFK-Vu8baN-W1z5oDFV1M3_Bg=s64",
      "userId": "06628799173499765411"
     },
     "user_tz": -420
    },
    "id": "4bbe003d",
    "outputId": "1dff208f-09c8-48fe-f65e-a0daae1aa9a9"
   },
   "outputs": [
    {
     "name": "stdout",
     "output_type": "stream",
     "text": [
      "MAE :     0.460 (средняя абсолютная ошибка)\n",
      "MSE :  0.351080 (среднеквадратичная ошибка)\n",
      "RMSE:  0.592520 (кв. корень из среднеквадратичной ошибки)\n",
      "R2  :     0.676 (коэфф. детерминации)\n"
     ]
    }
   ],
   "source": [
    "GET_METRICS_SINGLE(yStd_test, yStd_pred)"
   ]
  },
  {
   "cell_type": "markdown",
   "id": "13c0280d-4cac-4f0b-9383-6d94c195f5ac",
   "metadata": {},
   "source": [
    "Построим гистограмму остатков (разностей между вычисленными и проверочными)"
   ]
  },
  {
   "cell_type": "code",
   "execution_count": 45,
   "id": "1d15db4f-50a3-43d7-80a7-fb131c04e03b",
   "metadata": {},
   "outputs": [
    {
     "data": {
      "text/plain": [
       "(array([ 2.,  8., 12., 21., 49., 66., 58., 37., 15.,  4.]),\n",
       " array([-1.94687503, -1.60684706, -1.26681909, -0.92679112, -0.58676315,\n",
       "        -0.24673518,  0.09329279,  0.43332077,  0.77334874,  1.11337671,\n",
       "         1.45340468]),\n",
       " <BarContainer object of 10 artists>)"
      ]
     },
     "execution_count": 45,
     "metadata": {},
     "output_type": "execute_result"
    },
    {
     "data": {
      "image/png": "[encoded data removed]",
      "text/plain": [
       "<Figure size 1000x500 with 1 Axes>"
      ]
     },
     "metadata": {},
     "output_type": "display_data"
    }
   ],
   "source": [
    "plt.figure(figsize=(10,5))\n",
    "plt.subplot(121)\n",
    "plt.hist(yStd_pred - yStd_test , edgecolor = 'black')"
   ]
  },
  {
   "cell_type": "markdown",
   "id": "71f9b768-b5e3-44bc-a5d7-aed9cdc1d267",
   "metadata": {},
   "source": [
    "## Модель SGDRegressor. Cтандартизованные (rand_seed = 4)"
   ]
  },
  {
   "cell_type": "code",
   "execution_count": 59,
   "id": "45d57502-3121-4834-b405-27d2699f1392",
   "metadata": {},
   "outputs": [
    {
     "data": {
      "text/plain": [
       "array([-0.69726447, -0.1831491 , -0.60238331, -0.10592453,  1.03731491,\n",
       "        0.18245051, -0.13399318,  1.07623216,  1.50857953,  0.24441742,\n",
       "       -0.15475509, -0.82230579, -0.41959924,  1.14480917,  1.12561462,\n",
       "        0.66263741, -0.9437552 ,  1.03895144,  0.43886499, -0.31578351,\n",
       "        1.317145  ,  0.20135029,  0.48566113, -0.70339369, -0.88239617,\n",
       "        0.11292587, -1.00356818, -0.52230791, -0.60439502, -0.72466366,\n",
       "        0.04199565,  1.21335729, -0.5143593 ,  1.25072184, -0.39573917,\n",
       "        0.51114581,  0.20444929,  0.90958569, -0.31082692, -0.60280982,\n",
       "       -0.23587106,  0.13986359, -0.52067089,  0.05516378, -0.06120368,\n",
       "       -0.32077044, -0.6307091 ,  0.18245051, -1.63970769,  1.5440303 ,\n",
       "        0.32296983,  1.14605086,  0.113676  , -0.10880425, -0.21172111,\n",
       "       -0.17076416, -0.00541028, -0.33332336,  0.55707367,  0.6558481 ,\n",
       "       -0.27844801,  0.39849995,  1.42617841, -0.15221965,  1.11169422,\n",
       "       -0.40504486, -0.56622536,  0.29476275,  0.31264929, -0.64070833,\n",
       "       -0.57045793, -0.6371634 ,  0.82604566, -0.56622536, -0.83120131,\n",
       "       -0.69866264, -0.70664392, -1.05606766, -1.2771476 , -1.0913885 ,\n",
       "        0.10403634,  0.23101826,  0.27907836,  0.54065317, -0.50861252,\n",
       "       -0.22703762, -0.37161271, -0.99291183, -0.56102551, -0.19068903,\n",
       "       -0.51925548, -0.70574677, -0.55378848,  1.41755685, -0.4647631 ,\n",
       "        0.60489462,  0.02239898, -0.69062946,  0.58678904,  0.33773792,\n",
       "       -1.14505519, -0.44962825, -1.52300765, -1.08214486,  0.09656481,\n",
       "        0.6207413 , -0.57729468, -0.66163538,  2.03044523,  0.69998196,\n",
       "       -0.37269777, -1.19621064, -0.76599601,  0.24313789, -0.54717216,\n",
       "       -1.64570443, -0.43546417,  1.449687  , -1.30631529, -0.18626643,\n",
       "       -1.28893928, -1.23012342, -0.23220496,  1.23581671, -0.3560527 ,\n",
       "        0.6900373 ,  1.25072184,  0.52907034, -0.31119861,  1.47312105,\n",
       "        0.76824786, -0.18170029, -0.64609699, -0.95592888, -0.0073855 ,\n",
       "       -1.21988022,  1.53321624,  0.87036538, -0.10764092, -0.89330612,\n",
       "        0.86885424,  0.98699469, -0.77040596,  0.01558517,  0.56217424,\n",
       "       -0.82323   ,  0.41904014,  0.07923171,  0.22977657, -0.4580508 ,\n",
       "        0.5231894 ,  1.43613153, -0.59629911, -0.8956592 ,  0.93186454,\n",
       "       -0.43278588, -0.09334762,  0.26449304, -0.58157541, -0.94175638,\n",
       "       -0.04617836, -0.37256625, -0.97474026, -0.02505714,  0.26831987,\n",
       "        0.04613496,  0.66018548, -0.16294593, -0.51983608, -0.37442669,\n",
       "       -0.26179254,  0.14825002, -0.13844121, -0.55648455, -0.16610278,\n",
       "        0.61818364,  0.98876826,  0.05345774, -0.07195767,  1.44441344,\n",
       "       -0.50735204,  0.3084624 , -0.70031327, -0.74964318, -0.78086255,\n",
       "       -0.40784587,  0.04929413, -0.30097847, -0.20215441,  0.21776813,\n",
       "        0.05393091,  0.66263741,  0.0918026 ,  0.83442845, -0.78830711,\n",
       "       -0.2649124 , -0.21821792, -1.00640464, -0.57690659, -1.45394858,\n",
       "       -1.34660955,  1.32182394,  0.43886499, -0.5719581 , -0.74290997,\n",
       "        0.32412585,  1.04980279,  0.9341434 ,  0.88816175, -0.42823755,\n",
       "       -1.16106436, -0.20090802, -1.07830792,  1.54331337, -0.1912284 ,\n",
       "       -1.56323832, -0.76494251,  0.12353796,  0.74892982,  1.08911142,\n",
       "        0.93157672, -0.11885535, -0.19438848,  0.05305603,  0.3250291 ,\n",
       "       -0.50139886,  0.9097398 ,  0.12391884,  0.79901688, -0.40343592,\n",
       "        0.7781762 , -0.4496742 ,  0.54060591, -1.26282046, -0.02008581,\n",
       "        0.0763049 , -0.75889036,  0.33332817,  0.01590691, -1.25145469,\n",
       "        0.38544079,  0.85219757, -0.69430518,  0.77830006, -1.19376139,\n",
       "        0.84822122, -1.37537435, -0.7611887 , -0.52604146,  0.26198426,\n",
       "       -0.16931375, -0.77577059, -0.00839526,  1.53321624, -0.71690162,\n",
       "       -1.19348061, -0.14103506, -0.64983707,  0.41564959,  0.07111706,\n",
       "       -0.52314188,  0.19638902, -1.70876675, -0.31802403, -0.46139629,\n",
       "       -0.61114537,  0.41435758, -0.69276821,  0.18043292, -1.17724784,\n",
       "       -0.31578351,  0.14993598])"
      ]
     },
     "execution_count": 59,
     "metadata": {},
     "output_type": "execute_result"
    }
   ],
   "source": [
    "# 1. Создать объект класса с моделью стохастического градиентного спуска\n",
    "rand_seed = 4\n",
    "sgd_reg_std =   linear_model.SGDRegressor(\n",
    "    max_iter=10000,\n",
    "    tol=1e-3,\n",
    "    random_state=4,\n",
    ")\n",
    "# 2. Обучить модель (подобрать/подогнать параметры модели)  на СТАНДАРТИЗИРОВАНОМ проверочном наборе\n",
    "sgd_reg_std.fit(  xStd_train,  yStd_train)\n",
    "# 3. Получить вычисленные(predicted) зн. на СТАНДАРТИЗИРОВАНОМ проверочном наборе\n",
    "yStd_pred = sgd_reg_std.predict ( xStd_test)\n",
    "yStd_pred"
   ]
  },
  {
   "cell_type": "code",
   "execution_count": 60,
   "id": "ae0455dc-7e73-4722-b994-83427cc693d6",
   "metadata": {},
   "outputs": [
    {
     "data": {
      "image/png": "[encoded data removed]",
      "text/plain": [
       "<Figure size 1200x600 with 2 Axes>"
      ]
     },
     "metadata": {},
     "output_type": "display_data"
    }
   ],
   "source": [
    "PLOT34(yStd_test, yStd_pred)"
   ]
  },
  {
   "cell_type": "code",
   "execution_count": 61,
   "id": "607f2953-9cc2-4669-bd85-f98646d75128",
   "metadata": {},
   "outputs": [
    {
     "name": "stdout",
     "output_type": "stream",
     "text": [
      "MAE :     0.460 (средняя абсолютная ошибка)\n",
      "MSE :  0.349397 (среднеквадратичная ошибка)\n",
      "RMSE:  0.591098 (кв. корень из среднеквадратичной ошибки)\n",
      "R2  :     0.678 (коэфф. детерминации)\n"
     ]
    }
   ],
   "source": [
    "GET_METRICS_SINGLE(yStd_test, yStd_pred)"
   ]
  },
  {
   "cell_type": "markdown",
   "id": "aa0478d6-d94f-4496-a679-07244adce911",
   "metadata": {},
   "source": [
    "Построим гистограмму остатков (разностей между вычисленными и проверочными)"
   ]
  },
  {
   "cell_type": "code",
   "execution_count": 62,
   "id": "6afce183-284e-4e6b-9842-df803b7743bc",
   "metadata": {},
   "outputs": [
    {
     "data": {
      "text/plain": [
       "(array([ 2.,  8., 12., 21., 49., 66., 58., 37., 15.,  4.]),\n",
       " array([-1.94035376, -1.6005036 , -1.26065345, -0.92080329, -0.58095313,\n",
       "        -0.24110297,  0.09874719,  0.43859734,  0.7784475 ,  1.11829766,\n",
       "         1.45814782]),\n",
       " <BarContainer object of 10 artists>)"
      ]
     },
     "execution_count": 62,
     "metadata": {},
     "output_type": "execute_result"
    },
    {
     "data": {
      "image/png": "[encoded data removed]",
      "text/plain": [
       "<Figure size 1000x500 with 1 Axes>"
      ]
     },
     "metadata": {},
     "output_type": "display_data"
    }
   ],
   "source": [
    "plt.figure(figsize=(10,5))\n",
    "plt.subplot(121)\n",
    "plt.hist(yStd_pred - yStd_test , edgecolor = 'black')"
   ]
  },
  {
   "cell_type": "markdown",
   "id": "9c3f48c2-dd12-4495-9df5-8af3f576b016",
   "metadata": {},
   "source": [
    "## Заключение по полученых результатам"
   ]
  },
  {
   "cell_type": "markdown",
   "id": "aced72c5-4ca0-494f-8f2f-5a84fcf2e156",
   "metadata": {},
   "source": [
    "Стандартизация положительно влияет на точность модели. У модели, работающей со стандартизированными данными значительно меньше средняя абсолютная ошибка и кв. корень из среднеквадратичной ошибки, а коэффициент детерминации выше, чем у модели, которая работает с НЕ стандартизированными данными."
   ]
  },
  {
   "cell_type": "markdown",
   "id": "dc177256-a489-4adc-a121-f9b9b3ceef2b",
   "metadata": {},
   "source": [
    "Изменение rand_seed значительно влияет на работу модели, использующую НЕ стандартизированные данные. Значения MAE, RMSE, R2 такой модели сильно зависят от начального состояния ГСЧ. В случае модели, которая использует стандартизированные значения, влияние начального состояния ГСЧ не так велико."
   ]
  },
  {
   "cell_type": "markdown",
   "id": "cef873fa-4df4-485b-a70f-8fd37406ec95",
   "metadata": {},
   "source": [
    "Также обучение модели, которая использует стандартизированные данные проходит гораздо быстрее, чем обучение модели, которая использует НЕ стандартизированные данные."
   ]
  },
  {
   "cell_type": "markdown",
   "id": "65b64918",
   "metadata": {
    "id": "65b64918"
   },
   "source": [
    "# Кросс-валидация"
   ]
  },
  {
   "cell_type": "markdown",
   "id": "2cioLWRe3VhU",
   "metadata": {
    "id": "2cioLWRe3VhU"
   },
   "source": [
    "В виду того, что при разделении на обучающую и проверочные части используется случайный выбор, оценки точности обученой модели будут напрямую зависеть каждого нового случайного распределения образцов. При этом от случая к случаю оценки точности будут изменятся. \n",
    "\n",
    "Для полученя более объективной оценки применятеся прием Кросс-валидации (cross-validation) или скользящего контроля — процедура эмпирического оценивания обобщающей способности алгоритмов. \n",
    "\n",
    "Обобщающая способность — это способность модели выдавать правильные результаты не только для примеров, участвовавших в процессе обучения, но и для любых новых, проверочных."
   ]
  },
  {
   "cell_type": "markdown",
   "id": "9Y7fP2eQ3Tkp",
   "metadata": {
    "id": "9Y7fP2eQ3Tkp"
   },
   "source": [
    "Обучающая (Train) часть выборки разделяется на K-частей, для каждой из которых:\n",
    " - происходит создание и обучение модели на данных не принадлежащих текущей K-части\n",
    " - полученая промежуточная модель получает оценку точности по образцам K-части"
   ]
  },
  {
   "cell_type": "markdown",
   "id": "GVFCcaU337Q0",
   "metadata": {
    "id": "GVFCcaU337Q0"
   },
   "source": [
    "![CrossVal.png](data:image/png;base64,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)"
   ]
  },
  {
   "cell_type": "markdown",
   "id": "e3708c4b",
   "metadata": {
    "id": "e3708c4b"
   },
   "source": [
    "\n",
    "\n",
    "В библиотеке sklearn в пакете sklearn.model_selection присутствуют следующие функции\n",
    "\n",
    "- cross_val_score (estimator, X, y, cv, scoring) - получение единственной метрики\n",
    "- cross_validate  (estimator, X, y, cv, scoring) - получение нескольких метрик\n",
    "- cross_val_predict(estimator, X, y, cv=3) - получить отклики, вычисленные моделью над набором входных значений\n",
    "\n",
    "где, scoring - Метрики регрессии имеет режимы:\n",
    "  - r2 - коэфф. детерминации (R2)\n",
    "  - neg_mean_squared_error - ср. кв. ошибка (MSE)\n",
    "  - neg_root_mean_squared_error - кв. корень из ср. кв. ошибки (RMSE)"
   ]
  },
  {
   "cell_type": "code",
   "execution_count": 50,
   "id": "fHelTUt6fIQj",
   "metadata": {
    "id": "fHelTUt6fIQj"
   },
   "outputs": [],
   "source": [
    "modelForCV =  linear_model.SGDRegressor(\n",
    "    max_iter=10000,\n",
    "    tol=1e-3,\n",
    "    random_state=8,\n",
    ")"
   ]
  },
  {
   "cell_type": "code",
   "execution_count": 51,
   "id": "a2f0a7b3",
   "metadata": {
    "colab": {
     "base_uri": "https://localhost:8080/"
    },
    "editable": true,
    "executionInfo": {
     "elapsed": 1848,
     "status": "ok",
     "timestamp": 1636469742387,
     "user": {
      "displayName": "Иван Павлов",
      "photoUrl": "https://lh3.googleusercontent.com/a-/AOh14Gh4fZk-Gi8UW8cZBGFK-Vu8baN-W1z5oDFV1M3_Bg=s64",
      "userId": "06628799173499765411"
     },
     "user_tz": -420
    },
    "id": "a2f0a7b3",
    "outputId": "70b04493-7723-4bfb-ecd7-0ccab76ed07d",
    "scrolled": true,
    "slideshow": {
     "slide_type": ""
    },
    "tags": []
   },
   "outputs": [
    {
     "name": "stdout",
     "output_type": "stream",
     "text": [
      "R2. НЕ Стандартизированные проверочные данные\n",
      "Значения метрики по каждому блоку cv: [-7.01617271e+24 -2.79170531e+25 -1.18326517e+24]\n",
      "Усредненное значение метрики: -1.2038830324662042e+25\n"
     ]
    }
   ],
   "source": [
    "print(\"R2. НЕ Стандартизированные проверочные данные\")\n",
    "scores_cross = cross_val_score(\n",
    "                                    estimator = modelForCV, # Модель для обучения (вызова метода .fit())\n",
    "                                    X=x_test,   # Независимые переменные\n",
    "                                    y=y_test,   # Целевая переменная\n",
    "                                    cv=3,       # Кол-во K-частей (Fold)\n",
    "                                    scoring='r2'# Режим расчитываемой метрики\n",
    "                                )\n",
    "\n",
    "print(\"Значения метрики по каждому блоку cv:\", scores_cross)\n",
    "print(\"Усредненное значение метрики:\", scores_cross.mean())"
   ]
  },
  {
   "cell_type": "code",
   "execution_count": 63,
   "id": "75661be1",
   "metadata": {
    "colab": {
     "base_uri": "https://localhost:8080/"
    },
    "executionInfo": {
     "elapsed": 317,
     "status": "ok",
     "timestamp": 1636469749406,
     "user": {
      "displayName": "Иван Павлов",
      "photoUrl": "https://lh3.googleusercontent.com/a-/AOh14Gh4fZk-Gi8UW8cZBGFK-Vu8baN-W1z5oDFV1M3_Bg=s64",
      "userId": "06628799173499765411"
     },
     "user_tz": -420
    },
    "id": "75661be1",
    "outputId": "5662f95b-7ebc-4acd-ffd6-8985858682ec"
   },
   "outputs": [
    {
     "name": "stdout",
     "output_type": "stream",
     "text": [
      "R2. Стандартизированные проверочные данные\n",
      "Значения метрики по каждому блоку cv: [0.57895775 0.69309416 0.72136079]\n",
      "Усредненное значение метрики: 0.6644708991407239\n"
     ]
    }
   ],
   "source": [
    "print(\"R2. Стандартизированные проверочные данные\")\n",
    "scores_cross = cross_val_score(\n",
    "                                    estimator = modelForCV, # Модель для обучения (вызова метода .fit())\n",
    "                                    X=xStd_test,   # Независимые переменные\n",
    "                                    y=yStd_test,   # Целевая переменная\n",
    "                                    cv=3,       # Кол-во K-частей (Fold)\n",
    "                                    scoring='r2'# Режим расчитываемой метрики\n",
    "                                )\n",
    "\n",
    "print(\"Значения метрики по каждому блоку cv:\", scores_cross)\n",
    "print(\"Усредненное значение метрики:\", scores_cross.mean())"
   ]
  },
  {
   "cell_type": "code",
   "execution_count": 53,
   "id": "a69dbc62",
   "metadata": {
    "colab": {
     "base_uri": "https://localhost:8080/"
    },
    "executionInfo": {
     "elapsed": 1926,
     "status": "ok",
     "timestamp": 1636469755998,
     "user": {
      "displayName": "Иван Павлов",
      "photoUrl": "https://lh3.googleusercontent.com/a-/AOh14Gh4fZk-Gi8UW8cZBGFK-Vu8baN-W1z5oDFV1M3_Bg=s64",
      "userId": "06628799173499765411"
     },
     "user_tz": -420
    },
    "id": "a69dbc62",
    "outputId": "2da63704-1f62-4fc4-be5a-935fad6844b8"
   },
   "outputs": [
    {
     "name": "stdout",
     "output_type": "stream",
     "text": [
      "RMSE. НЕ Стандартизированные проверочные данные\n",
      "Значения метрики по каждому блоку cv: [-4.39969289e+13 -9.14567745e+13 -1.78864265e+13]\n",
      "Усредненное значение метрики: -51113376650762.46\n"
     ]
    }
   ],
   "source": [
    "print(\"RMSE. НЕ Стандартизированные проверочные данные\")\n",
    "scores_cross = cross_val_score(\n",
    "                                    estimator = modelForCV, # Модель для обучения (вызова метода .fit())\n",
    "                                    X=x_test,   # Независимые переменные\n",
    "                                    y=y_test,   # Целевая переменная\n",
    "                                    cv=3,       # Кол-во K-частей (Fold)\n",
    "                                    scoring='neg_root_mean_squared_error'# Режим расчитываемой метрики\n",
    "                                )\n",
    "\n",
    "print(\"Значения метрики по каждому блоку cv:\", scores_cross)\n",
    "print(\"Усредненное значение метрики:\", scores_cross.mean())"
   ]
  },
  {
   "cell_type": "code",
   "execution_count": 65,
   "id": "3d4c98f1",
   "metadata": {
    "colab": {
     "base_uri": "https://localhost:8080/"
    },
    "executionInfo": {
     "elapsed": 299,
     "status": "ok",
     "timestamp": 1636469760031,
     "user": {
      "displayName": "Иван Павлов",
      "photoUrl": "https://lh3.googleusercontent.com/a-/AOh14Gh4fZk-Gi8UW8cZBGFK-Vu8baN-W1z5oDFV1M3_Bg=s64",
      "userId": "06628799173499765411"
     },
     "user_tz": -420
    },
    "id": "3d4c98f1",
    "outputId": "50d9abdc-2ab0-46f0-b96d-15b1935ef98f"
   },
   "outputs": [
    {
     "name": "stdout",
     "output_type": "stream",
     "text": [
      "RMSE. Стандартизированные проверочные данные\n",
      "Значения метрики по каждому блоку cv: [-0.66293616 -0.58982112 -0.53387588]\n",
      "Усредненное значение метрики: -0.5955443870513021\n"
     ]
    }
   ],
   "source": [
    "print(\"RMSE. Стандартизированные проверочные данные\")\n",
    "scores_cross = cross_val_score(\n",
    "                                    estimator = modelForCV, # Модель для обучения (вызова метода .fit())\n",
    "                                    X=xStd_test,   # Независимые переменные\n",
    "                                    y=yStd_test,   # Целевая переменная\n",
    "                                    cv=3,       # Кол-во K-частей (Fold)\n",
    "                                    scoring='neg_root_mean_squared_error'# Режим расчитываемой метрики\n",
    "                                )\n",
    "\n",
    "print(\"Значения метрики по каждому блоку cv:\", scores_cross)\n",
    "print(\"Усредненное значение метрики:\", scores_cross.mean())"
   ]
  },
  {
   "cell_type": "markdown",
   "id": "26906358-82b8-43ee-9a7d-40c55ef917ee",
   "metadata": {},
   "source": [
    "|Оценка|на станд.| на НЕ станд.|\n",
    "|-|-|-|\n",
    "|Разделений|k=3|k=3\n",
    "|R2|[0.57895775 0.69309416 0.72136079]|[-7.01617271e+24 -2.79170531e+25 -1.18326517e+24]|\n",
    "|R2 средн|0.6644708991407239|-1.2038830324662042e+25|\n",
    "|RMSE|[-0.66293616 -0.58982112 -0.53387588]|[-4.39969289e+13 -9.14567745e+13 -1.78864265e+13]|\n",
    "|RMSE средн|-0.5955443870513021|-51113376650762.46|"
   ]
  },
  {
   "cell_type": "markdown",
   "id": "e9ac79ca-e4cc-4a0a-9b0e-0bcff2f0d6a5",
   "metadata": {
    "editable": true,
    "slideshow": {
     "slide_type": ""
    },
    "tags": []
   },
   "source": [
    "## Заключение о величине коридора изменений оценок моделей"
   ]
  },
  {
   "cell_type": "markdown",
   "id": "0f0621b7-da1f-4717-96a6-ea9a7c7be179",
   "metadata": {
    "editable": true,
    "slideshow": {
     "slide_type": ""
    },
    "tags": []
   },
   "source": [
    "Величины коридоров изменений оценок у моделей, которые работают с НЕ стандартизированными данными значительно больше, чем у моделей, которые работают со стандартизированными данными. У моделей, которые используют стандартизированные данные средние оценки по модулю не превышают 1 (0.664 для R2 и -0.596 для RMSE), в то время как средние оценки моделей, использующих НЕ стандартизированные данные достигают невероятно больших значений. Это говорит о преимуществах моделей, которые используют стандартизированные данные, по отношению к моделям, которые используют НЕ стандартизированные данные."
   ]
  },
  {
   "cell_type": "markdown",
   "id": "2bd27244",
   "metadata": {
    "editable": true,
    "id": "2bd27244",
    "slideshow": {
     "slide_type": ""
    },
    "tags": []
   },
   "source": [
    "# Итоговые, сводные результаты и выводы."
   ]
  },
  {
   "cell_type": "markdown",
   "id": "V3C_xNKUqQva",
   "metadata": {
    "id": "V3C_xNKUqQva"
   },
   "source": [
    "Исследовали влияние операции приведения данных к новым шкалам (стандартизации) на обучение моделей МО при решении задачи регрессии, с использованием библиотеки scikit-learn.\n",
    "Познакомились с приемом перекрестной проверки данных (cross-validation)."
   ]
  },
  {
   "cell_type": "markdown",
   "id": "8aec41c1-3b4c-493a-b1e6-7499ad3da8a7",
   "metadata": {},
   "source": [
    "В ходе лабораторной работы было установлено, что обучать модели, использующие стандартизированные данные гораздо быстрее, проще и эффективнее, чем модели, которые используют НЕ стандартизированные данные. Познакомились с различными методами стандартизации и оценки влияния стандартизации."
   ]
  }
 ],
 "metadata": {
  "accelerator": "GPU",
  "colab": {
   "collapsed_sections": [],
   "name": "АВТ-815_ЛР3_Каманин_Павлов.ipynb",
   "provenance": [
    {
     "file_id": "164pbvXd4WyG4sQDgbMTNGeVtRy6ky5DE",
     "timestamp": 1636464111174
    }
   ]
  },
  "kernelspec": {
   "display_name": "Python 3 (ipykernel)",
   "language": "python",
   "name": "python3"
  },
  "language_info": {
   "codemirror_mode": {
    "name": "ipython",
    "version": 3
   },
   "file_extension": ".py",
   "mimetype": "text/x-python",
   "name": "python",
   "nbconvert_exporter": "python",
   "pygments_lexer": "ipython3",
   "version": "3.10.11"
  },
  "toc": {
   "base_numbering": 1,
   "nav_menu": {},
   "number_sections": true,
   "sideBar": true,
   "skip_h1_title": false,
   "title_cell": "Table of Contents",
   "title_sidebar": "Contents",
   "toc_cell": false,
   "toc_position": {
    "height": "calc(100% - 180px)",
    "left": "10px",
    "top": "150px",
    "width": "246.667px"
   },
   "toc_section_display": true,
   "toc_window_display": true
  }
 },
 "nbformat": 4,
 "nbformat_minor": 5
}
